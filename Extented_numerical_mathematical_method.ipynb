{
 "cells": [
  {
   "cell_type": "markdown",
   "metadata": {},
   "source": [
    "# Extended Numerical Mathematical Methods"
   ]
  },
  {
   "cell_type": "markdown",
   "metadata": {},
   "source": [
    "## Contents"
   ]
  },
  {
   "cell_type": "markdown",
   "metadata": {},
   "source": [
    "##### i) Dirac Delta Function"
   ]
  },
  {
   "cell_type": "markdown",
   "metadata": {},
   "source": [
    "##### ii) Improper Integrals"
   ]
  },
  {
   "cell_type": "markdown",
   "metadata": {},
   "source": [
    "### Dirac Delta Function"
   ]
  },
  {
   "cell_type": "code",
   "execution_count": 1,
   "metadata": {},
   "outputs": [],
   "source": [
    "from math import*\n",
    "import matplotlib.pyplot as plt"
   ]
  },
  {
   "cell_type": "code",
   "execution_count": 2,
   "metadata": {},
   "outputs": [],
   "source": [
    "def delta0(pr,x):\n",
    "    x0,al=pr\n",
    "    return exp(-(x-x0)**2/al**2)/(pi**0.5*al)\n",
    "def delta1(pr,x):\n",
    "    x0,al=pr\n",
    "    return al/(pi*((x-x0)**2+al**2))\n",
    "def delta2(pr,x):\n",
    "    x0,al=pr\n",
    "    return sin((x-x0)/al)/(pi*(x-x0))\n",
    "def delta3(pr,x):\n",
    "    x0,al=pr\n",
    "    return 1/(2*al*(cosh((x-x0)/al))**2)\n"
   ]
  },
  {
   "cell_type": "code",
   "execution_count": 3,
   "metadata": {},
   "outputs": [
    {
     "data": {
      "image/png": "[encoded data removed]",
      "text/plain": [
       "<Figure size 432x288 with 4 Axes>"
      ]
     },
     "metadata": {
      "needs_background": "light"
     },
     "output_type": "display_data"
    }
   ],
   "source": [
    "x0=1\n",
    "a,b=x0-1,x0+1\n",
    "dx=1e-3\n",
    "N=int((b-a)/dx)\n",
    "dx=(b-a)/(N-1)\n",
    "x=[a+dx*i for i in range(N)]\n",
    "\n",
    "plt.suptitle(r\" Plot of different approximatiosn of the $\\delta$ function\")\n",
    "\n",
    "plt.subplot(221)\n",
    "al=4.85e-2\n",
    "fx=[delta0([x0,al],xx) for xx in x]\n",
    "plt.plot(x,fx,label='Form 1')\n",
    "plt.legend(loc='best',prop={'size':12})\n",
    "\n",
    "plt.subplot(222)\n",
    "al=4e-2\n",
    "fx=[delta1([x0,al],xx) for xx in x]\n",
    "plt.plot(x,fx,label='Form 2')\n",
    "plt.legend(loc='best',prop={'size':12})\n",
    "\n",
    "plt.subplot(223)\n",
    "al=1e-2\n",
    "fx=[delta2([x0,al],xx) for xx in x]\n",
    "plt.plot(x,fx,label='Form 3')\n",
    "plt.legend(loc='best',prop={'size':12})\n",
    "\n",
    "plt.subplot(224)\n",
    "al=6.35e-2\n",
    "fx=[delta3([x0,al],xx) for xx in x]\n",
    "plt.plot(x,fx,label='Form 4')\n",
    "plt.legend(loc='best',prop={'size':12})\n",
    "\n",
    "plt.show()"
   ]
  },
  {
   "cell_type": "code",
   "execution_count": 4,
   "metadata": {},
   "outputs": [],
   "source": [
    "from Gauss_Legendre import*\n",
    "from math import*"
   ]
  },
  {
   "cell_type": "code",
   "execution_count": 5,
   "metadata": {},
   "outputs": [
    {
     "name": "stdout",
     "output_type": "stream",
     "text": [
      "f(x0) =  0.7827045382418681\n",
      "Integral for different forms of Delta function\n",
      "Integral of f(x) delta(x-x0) :  0.7827045382418659\n",
      "Integral of f(x) delta(x-x0) :  0.7827045382418666\n",
      "Integral of f(x) delta(x-x0) :  0.7827045382418756\n",
      "Integral of f(x) delta(x-x0) :  0.7827045382418613\n"
     ]
    }
   ],
   "source": [
    "x0=1.3\n",
    "a,b=x0-8,x0+8\n",
    "alphs=[4.85e-2,4.0e-2,1e-2,6.35e-2]\n",
    "def f(x):\n",
    "    return exp(-(x-2)**2/2)\n",
    "def f_del(pr,x):\n",
    "    delta2,x0,al=pr\n",
    "    return delta2([x0,al],x)*f(x)\n",
    "print('f(x0) = ',f(x0))\n",
    "print('Integral for different forms of Delta function')\n",
    "for al in alphs:\n",
    "    print (\"Integral of f(x) delta(x-x0) : \",GaussLegdQuad(f_del,[delta2,x0,al],700,a,b))\n",
    "           "
   ]
  },
  {
   "cell_type": "code",
   "execution_count": 6,
   "metadata": {},
   "outputs": [
    {
     "name": "stdout",
     "output_type": "stream",
     "text": [
      "Integral of f(x) delta(x-x0) :  0.999999999999568\n",
      "Integral of f(x) delta(x-x0) :  0.9745445387307851\n",
      "Integral of f(x) delta(x-x0) :  0.9946023169230056\n",
      "Integral of f(x) delta(x-x0) :  0.9999999999962137\n"
     ]
    }
   ],
   "source": [
    "x0=1\n",
    "a,b=x0-1,x0+1\n",
    "alphs=[4.85e-2,4e-2,1e-2,6.36e-2]\n",
    "deltas=[delta0,delta1,delta2,delta3]\n",
    "for i in range(len(deltas)):\n",
    "     print (\"Integral of f(x) delta(x-x0) : \",GaussLegdQuad(deltas[i],[x0,alphs[i]],700,a,b))\n",
    "    "
   ]
  },
  {
   "cell_type": "markdown",
   "metadata": {},
   "source": [
    "### Improper Integrals"
   ]
  },
  {
   "cell_type": "code",
   "execution_count": 7,
   "metadata": {},
   "outputs": [],
   "source": [
    "def trpzMidPOntIntg(f,pr,aa,bb,tol):\n",
    "    nmx=20\n",
    "    a=0\n",
    "    b=0\n",
    "    if aa == 'infty':\n",
    "        a=pi/2\n",
    "    elif aa=='-infty':\n",
    "        a=-pi/2\n",
    "    else:\n",
    "        a=atan(aa)\n",
    "    if bb == 'infty':\n",
    "        b=pi/2\n",
    "    elif bb =='-infty':\n",
    "        b=-pi/2\n",
    "    else:\n",
    "        b=atan(bb)\n",
    "    def fn(pr,x):\n",
    "        return f(pr,tan(x))/(cos(x))**2\n",
    "    I1=0\n",
    "    for n in range(nmx):\n",
    "        N=3**n\n",
    "        h=(b-a)/N\n",
    "        s=0\n",
    "        for i in range(N):\n",
    "            s=s+fn(pr,a+(2*i+1)*(h/2))\n",
    "        I2=h*s\n",
    "        if abs(I1-I2)<tol:\n",
    "            break\n",
    "        else:\n",
    "            I1=I2\n",
    "    if n<nmx:\n",
    "        return I2\n",
    "    else:\n",
    "        return None"
   ]
  },
  {
   "cell_type": "code",
   "execution_count": 8,
   "metadata": {},
   "outputs": [
    {
     "name": "stdout",
     "output_type": "stream",
     "text": [
      "6.186471815934188\n"
     ]
    },
    {
     "data": {
      "text/plain": [
       "6.186471815934188"
      ]
     },
     "execution_count": 8,
     "metadata": {},
     "output_type": "execute_result"
    }
   ],
   "source": [
    "def f(pr,x):\n",
    "    a,b,c=pr\n",
    "    return exp(-a*x**2+b*x+c)\n",
    "a,b,c=1,1,1\n",
    "tol=1e-5\n",
    "print((pi/a)**0.5*exp((b**2/(4*a))+c))\n",
    "\n",
    "trpzMidPOntIntg(f,[a,b,c],'-infty','infty',tol)"
   ]
  },
  {
   "cell_type": "code",
   "execution_count": 9,
   "metadata": {},
   "outputs": [
    {
     "name": "stdout",
     "output_type": "stream",
     "text": [
      "The value of the Integral is :  1.0000000000000002\n"
     ]
    }
   ],
   "source": [
    "def f(pr,x):\n",
    "    b=pr\n",
    "    return x**2*exp(-b*x**2)\n",
    "tol=1e-4\n",
    "b=1.5\n",
    "T=trpzMidPOntIntg(f,b,0,'infty',tol)\n",
    "print('The value of the Integral is : ',(4*b**1.5*T)/pi**0.5)"
   ]
  },
  {
   "cell_type": "markdown",
   "metadata": {},
   "source": [
    "$\\int_{0}^{\\infty} \\frac{dx}{1+x^{2}}~=~\\frac{\\pi}{2}$"
   ]
  },
  {
   "cell_type": "code",
   "execution_count": 10,
   "metadata": {},
   "outputs": [],
   "source": [
    "#def f(pr,x):\n",
    " #   return (1+x**2)\n",
    "#tol=1e-4\n",
    "#T=trpzMidPOntIntg(f,None,0,'infty',tol)\n",
    "#print(\"The value of the integral is : \",T)"
   ]
  },
  {
   "cell_type": "code",
   "execution_count": 11,
   "metadata": {},
   "outputs": [],
   "source": [
    "def simpMidPntIntg(f,pr,aa,bb,tol):\n",
    "    nmx=20\n",
    "    a=0\n",
    "    b=0\n",
    "    if aa == 'infty':\n",
    "        a=pi/2\n",
    "    elif aa=='-infty':\n",
    "        a=-pi/2\n",
    "    else:\n",
    "        a=atan(aa)\n",
    "    if bb == 'infty':\n",
    "        b=pi/2\n",
    "    elif bb =='-infty':\n",
    "        b=-pi/2\n",
    "    else:\n",
    "        b=atan(bb)\n",
    "    def fn(pr,x):\n",
    "        return f(pr,tan(x))/(cos(x))**2\n",
    "    I1=0\n",
    "    ol=0\n",
    "    for n in range(nmx):\n",
    "        N=3**n\n",
    "        h=(b-a)/N\n",
    "        s=0\n",
    "        for i in range(N):\n",
    "            s=s+fn(pr,a+(2*i+1)*(h/2))\n",
    "        I=h*s\n",
    "        I2=(9*I-ol)/8\n",
    "        if abs(I1-I2)<tol:\n",
    "            break\n",
    "        else:\n",
    "            I1=I2\n",
    "            ol=I\n",
    "    if n<nmx:\n",
    "        return I2\n",
    "    else:\n",
    "        return None"
   ]
  },
  {
   "cell_type": "code",
   "execution_count": null,
   "metadata": {},
   "outputs": [],
   "source": []
  },
  {
   "cell_type": "code",
   "execution_count": 18,
   "metadata": {},
   "outputs": [],
   "source": [
    "#def f1(pr,x):\n",
    "#   return log(sin(x))\n",
    "#def f2(pr,x):\n",
    " #   return 1/(x-x**2)**0.5\n",
    "#def f3(pr,x):\n",
    "#    return 1/(1+x)**3\n",
    "#def f4(pr,x):\n",
    "#    return 1/(x**2+x-2)\n",
    "#def f5(pr,x):\n",
    "#    a,b=pr\n",
    "#    return exp(-a*x)*cos(bx)\n",
    "#def f6(p,x):\n",
    "#    return 1/x**p\n",
    "#def f7(p,x):\n",
    "#    return 1/x**p\n",
    "#def f8(pr,x):\n",
    "#    a,b=pr\n",
    "#   return sin(a*x)*exp(-b*x)\n",
    "#lims=[[0,pi/2],[0.5,1],[0,'infty'],[3,'infty'],[0,'infty'],[2,'infty'],[0,2],[0,'infty']]\n",
    "#par=[None,None,None,None,[1,2],3,0.4,[1,1]]\n",
    "#exact=[-pi/2*log(2),pi/2,0.5,(1/3)*log(5/2),0.2,2,-0.125,0.5]\n",
    "#f=[f1,f2,f3,f4,f5,f6,f7,f8]\n",
    "#print(\"calculated \",\"Exact\")\n",
    "#for i in range(8):\n",
    "#    I=simpMidPntIntg(f[i],par[i],lims[i][0],lims[i][1],1e-4)\n",
    "#    print(I,\"      \",exact[i]) \n",
    "    "
   ]
  },
  {
   "cell_type": "code",
   "execution_count": 20,
   "metadata": {},
   "outputs": [],
   "source": [
    "from bisec import*"
   ]
  },
  {
   "cell_type": "code",
   "execution_count": 22,
   "metadata": {},
   "outputs": [],
   "source": [
    "from brckSols import*"
   ]
  },
  {
   "cell_type": "code",
   "execution_count": 44,
   "metadata": {},
   "outputs": [
    {
     "data": {
      "text/plain": [
       "<matplotlib.legend.Legend at 0x9a025e0>"
      ]
     },
     "execution_count": 44,
     "metadata": {},
     "output_type": "execute_result"
    },
    {
     "data": {
      "image/png": "[encoded data removed]",
      "text/plain": [
       "<Figure size 432x288 with 1 Axes>"
      ]
     },
     "metadata": {
      "needs_background": "light"
     },
     "output_type": "display_data"
    }
   ],
   "source": [
    "x0=1\n",
    "a,b=x0-1,x0+1\n",
    "dx=1e-3\n",
    "N=int((b-a)/dx)\n",
    "dx=(b-a)/(N-1)\n",
    "x=[a+dx*i for i in range(N)]\n",
    "\n",
    "\n",
    "aa=5\n",
    "\n",
    "al=4e-2\n",
    "\n",
    "fx=[delta1([x0,al],aa*xx) for xx in x]\n",
    "plt.plot(x,fx,label='Form 2')\n",
    "plt.legend(loc='best',prop={'size':12})\n",
    "\n",
    "\n"
   ]
  },
  {
   "cell_type": "code",
   "execution_count": 45,
   "metadata": {},
   "outputs": [
    {
     "data": {
      "image/png": "[encoded data removed]",
      "text/plain": [
       "<Figure size 432x288 with 1 Axes>"
      ]
     },
     "metadata": {
      "needs_background": "light"
     },
     "output_type": "display_data"
    }
   ],
   "source": [
    "fx=[delta1([x0,al],xx)/abs(aa) for xx in x]\n",
    "plt.plot(x,fx,label='Form 2')\n",
    "plt.legend(loc='best',prop={'size':12})\n",
    "\n",
    "\n",
    "\n",
    "plt.show()"
   ]
  },
  {
   "cell_type": "code",
   "execution_count": null,
   "metadata": {},
   "outputs": [],
   "source": []
  },
  {
   "cell_type": "code",
   "execution_count": null,
   "metadata": {},
   "outputs": [],
   "source": []
  },
  {
   "cell_type": "code",
   "execution_count": null,
   "metadata": {},
   "outputs": [],
   "source": []
  }
 ],
 "metadata": {
  "kernelspec": {
   "display_name": "Python 3",
   "language": "python",
   "name": "python3"
  },
  "language_info": {
   "codemirror_mode": {
    "name": "ipython",
    "version": 3
   },
   "file_extension": ".py",
   "mimetype": "text/x-python",
   "name": "python",
   "nbconvert_exporter": "python",
   "pygments_lexer": "ipython3",
   "version": "3.8.5"
  }
 },
 "nbformat": 4,
 "nbformat_minor": 4
}
