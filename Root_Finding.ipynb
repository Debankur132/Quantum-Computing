{
 "cells": [
  {
   "cell_type": "markdown",
   "metadata": {},
   "source": [
    "$\\huge Bisection~ Method~ of ~finding ~roots$"
   ]
  },
  {
   "cell_type": "code",
   "execution_count": null,
   "metadata": {},
   "outputs": [],
   "source": [
    "def bisec(f,pr,a,b,tol):\n",
    "    if f(pr,a)*f(pr,b)>0:\n",
    "        print(\"The condition f(a)* f(b) < 0  is not satisfied \")\n",
    "        return None\n",
    "    \n",
    "    while abs(b-a)>tol:\n",
    "        x=(a+b)/2\n",
    "        if f(pr,a)*f(pr,x)<0:\n",
    "            b=x\n",
    "        elif f(pr,a)*f(pr,x)>0:\n",
    "            a=x\n",
    "        else:\n",
    "            if f(pr,a)==0:\n",
    "                x=a\n",
    "                break\n",
    "    return x"
   ]
  },
  {
   "cell_type": "code",
   "execution_count": 1,
   "metadata": {},
   "outputs": [],
   "source": [
    "from math import*"
   ]
  },
  {
   "cell_type": "markdown",
   "metadata": {},
   "source": [
    "Examples"
   ]
  },
  {
   "cell_type": "code",
   "execution_count": 2,
   "metadata": {},
   "outputs": [
    {
     "name": "stdin",
     "output_type": "stream",
     "text": [
      "Enter the value of lower bound 1\n",
      "Enter the value of upper bound 10\n"
     ]
    },
    {
     "name": "stdout",
     "output_type": "stream",
     "text": [
      "The condition f(a)* f(b) < 0  is not satisfied \n"
     ]
    }
   ],
   "source": [
    "def f(pr,x):\n",
    "    return x**3+2*x**2+2.2*x+0.4\n",
    "a=float(input(\"Enter the value of lower bound\"))\n",
    "b=float(input(\"Enter the value of upper bound\"))\n",
    "x=bisec(f,None,a,b,1e-6)\n",
    "if x!= None:\n",
    "    print(\"Solution is x= %.4f \"%x)\n",
    "    print(\"f(%.4f) = %.4f \"%(x,f(None,x)))"
   ]
  },
  {
   "cell_type": "code",
   "execution_count": 3,
   "metadata": {},
   "outputs": [
    {
     "name": "stdout",
     "output_type": "stream",
     "text": [
      "2.999999998137355\n"
     ]
    },
    {
     "data": {
      "image/png": "[encoded data removed]",
      "text/plain": [
       "<Figure size 432x288 with 1 Axes>"
      ]
     },
     "metadata": {
      "needs_background": "light"
     },
     "output_type": "display_data"
    }
   ],
   "source": [
    "def f(pr,x):\n",
    "    xx=2*x-1\n",
    "    if xx>0:\n",
    "        return xx-5\n",
    "    else :\n",
    "        return -xx-5\n",
    "pr=None\n",
    "rt=bisec(f,pr,0,5,1e-8)\n",
    "print(rt)\n",
    "\n",
    "import matplotlib.pyplot as plt\n",
    "p=[]\n",
    "q=[]\n",
    "t=-5\n",
    "while t<=5:\n",
    "    p.append(t)\n",
    "    q.append(f(None,t))\n",
    "    t+=0.5\n",
    "plt.plot(p,q,'-',label='f(x)')\n",
    "plt.plot(rt,f(None,rt),'k*',label='Root')\n",
    "plt.legend(loc='best',prop={'size':12})\n",
    "plt.show()"
   ]
  },
  {
   "cell_type": "code",
   "execution_count": 2,
   "metadata": {},
   "outputs": [],
   "source": [
    "from math import*"
   ]
  },
  {
   "cell_type": "code",
   "execution_count": 5,
   "metadata": {},
   "outputs": [
    {
     "name": "stdin",
     "output_type": "stream",
     "text": [
      "Enter a function of x :  6\n",
      "Enter the lower bound 4\n",
      "Enter the upper bound 8\n"
     ]
    },
    {
     "name": "stdout",
     "output_type": "stream",
     "text": [
      "The condition f(a)* f(b) < 0  is not satisfied \n"
     ]
    }
   ],
   "source": [
    "def f(fx,x):\n",
    "    return eval(fx)\n",
    "fx=input(\"Enter a function of x : \")\n",
    "a=float(input(\"Enter the lower bound\"))\n",
    "b=float(input(\"Enter the upper bound\"))\n",
    "x=bisec(f,fx,a,b,1e-5)\n",
    "if x!=None:\n",
    "    print(\"f(%.3f) = %.5f\"%(x,f(fx,x)))"
   ]
  },
  {
   "cell_type": "code",
   "execution_count": 8,
   "metadata": {},
   "outputs": [
    {
     "name": "stdin",
     "output_type": "stream",
     "text": [
      "Enter the value of n :  1\n",
      "Enter the value the number whose root you want to find :  15\n",
      "Enter the Lower Bound :  1\n",
      "Enter the Upper Bound :  15\n"
     ]
    },
    {
     "name": "stdout",
     "output_type": "stream",
     "text": [
      "x is : 15.000 \n",
      "f(15.000) = -0.0000 \n"
     ]
    }
   ],
   "source": [
    "def f(pr,x):\n",
    "    return x**pr[0]-pr[1]\n",
    "n=int(input(\"Enter the value of n : \"))\n",
    "apl=float(input(\"Enter the value the number whose root you want to find : \"))\n",
    "pr=[n,apl]\n",
    "a=float(input(\"Enter the Lower Bound : \"))\n",
    "b=float(input(\"Enter the Upper Bound : \"))\n",
    "x=bisec(f,pr,a,b,1e-6)\n",
    "if x!= None:\n",
    "    print(\"x is : %.3f \"%x)\n",
    "    print(\"f(%.3f) = %.4f \"%(x,f(pr,x)))"
   ]
  },
  {
   "cell_type": "code",
   "execution_count": 3,
   "metadata": {},
   "outputs": [],
   "source": [
    "from disToCnt import*"
   ]
  },
  {
   "cell_type": "code",
   "execution_count": 4,
   "metadata": {},
   "outputs": [],
   "source": [
    "from bisec import*"
   ]
  },
  {
   "cell_type": "code",
   "execution_count": 5,
   "metadata": {},
   "outputs": [],
   "source": [
    "from locate import*"
   ]
  },
  {
   "cell_type": "code",
   "execution_count": 6,
   "metadata": {},
   "outputs": [],
   "source": [
    "def intpForDiff(x,y,xx,k):\n",
    "    n=len(y)\n",
    "    h=x[k+1]-x[k]\n",
    "    p=(xx-x[k])/h\n",
    "    t=1\n",
    "    f=0\n",
    "    T=forDiffTble(y)\n",
    "    for i in range(n-k):\n",
    "        f=f+T[i][k]*t\n",
    "        t=t*((p-i)/(i+1))\n",
    "    return f\n"
   ]
  },
  {
   "cell_type": "code",
   "execution_count": 7,
   "metadata": {},
   "outputs": [],
   "source": [
    "def forDiffTble(forTB):\n",
    "    forTB=[forTB]\n",
    "    ind=0\n",
    "    while True:\n",
    "        TB=[]\n",
    "        for j in range(1,len(forTB[ind])):\n",
    "            TB.append(forTB[ind][j]-forTB[ind][j-1])\n",
    "        forTB.append(TB)\n",
    "            \n",
    "        if len(forTB[ind])==1:\n",
    "            break\n",
    "        else:\n",
    "            ind=ind+1\n",
    "    return forTB"
   ]
  },
  {
   "cell_type": "code",
   "execution_count": 8,
   "metadata": {},
   "outputs": [],
   "source": [
    "def locate(x,xx):\n",
    "    k=-1\n",
    "    n=len(x)\n",
    "    for i in range(n-1):\n",
    "        if (xx-x[i])*(xx-x[i+1])<=0:\n",
    "            k=i\n",
    "            break\n",
    "    return k"
   ]
  },
  {
   "cell_type": "code",
   "execution_count": 9,
   "metadata": {},
   "outputs": [],
   "source": [
    "def disToCnt(x,y,xx,m):\n",
    "    j=locate(x,xx)\n",
    "    n=len(x)\n",
    "    if j!=-1:\n",
    "        k=min(max(j-(m-1)//2,0),n-m)\n",
    "        yy=intpForDiff(x[k:k+m],y[k:k+m],xx,0)\n",
    "    else:\n",
    "        print(\"%f doesn't belong to the given array\"%xx)\n",
    "        yy=None\n",
    "    return yy"
   ]
  },
  {
   "cell_type": "code",
   "execution_count": 23,
   "metadata": {},
   "outputs": [
    {
     "name": "stdout",
     "output_type": "stream",
     "text": [
      "Root of the discrete function =  1.0001763916015625\n"
     ]
    }
   ],
   "source": [
    "def f(pr,x):\n",
    "    fx=disToCnt(pr[0],pr[1],x,pr[2])\n",
    "    return fx\n",
    "x=[]\n",
    "fx=[]\n",
    "ob=open('bisecDisSing.dat','r')\n",
    "while True:\n",
    "    data=ob.readline().split()\n",
    "    if not data:\n",
    "        break\n",
    "    x.append(float(data[0]))\n",
    "    fx.append(float(data[1]))\n",
    "ob.close()\n",
    "m=5\n",
    "pr=[x,fx,m]\n",
    "iroot=1\n",
    "xx=bisec(f,pr,x[iroot],x[iroot+1],1.0e-5)\n",
    "print('Root of the discrete function = ',xx)"
   ]
  },
  {
   "cell_type": "code",
   "execution_count": 26,
   "metadata": {},
   "outputs": [
    {
     "name": "stdout",
     "output_type": "stream",
     "text": [
      "Root is : -1.000 \n",
      "f(-1.000) = 0.000\n"
     ]
    }
   ],
   "source": [
    "def f(x):\n",
    "    return x**2-2*x-3\n",
    "a,b=-3,0\n",
    "tol=1e-5\n",
    "if f(a)*f(b)>0:\n",
    "    print(\"The condition is not satisfied\")\n",
    "else:\n",
    "    while abs(b-a)>tol:\n",
    "        x=(a+b)/2\n",
    "        if f(a)*f(x)<0:\n",
    "            b=x\n",
    "        elif f(a)*f(x)>0:\n",
    "            a=x\n",
    "        else:\n",
    "            if f(a)==0:\n",
    "                x=a\n",
    "            break\n",
    "print(\"Root is : %.3f \"%x)\n",
    "print(\"f(%.3f) = %.3f\"%(x,f(x)))"
   ]
  },
  {
   "cell_type": "code",
   "execution_count": 10,
   "metadata": {},
   "outputs": [],
   "source": [
    "def brckSolsCnt(f,pr,a,b,dx):\n",
    "    br=[]\n",
    "    x=a\n",
    "    while x<b:\n",
    "        if f(pr,x)*f(pr,x+dx)<=0:\n",
    "            br.append(x)\n",
    "        x=x+dx\n",
    "    return br"
   ]
  },
  {
   "cell_type": "code",
   "execution_count": 11,
   "metadata": {},
   "outputs": [],
   "source": [
    "def brckSolsDis(x,fx):#x is a list obtained from the data file and fx is the y values from the data file \n",
    "    n=len(x)\n",
    "    b=[]\n",
    "    for i in range(n-1):\n",
    "        if fx[i]*fx[i+1]<=0:\n",
    "            b.append(i)\n",
    "    return b"
   ]
  },
  {
   "cell_type": "code",
   "execution_count": 13,
   "metadata": {},
   "outputs": [
    {
     "name": "stdin",
     "output_type": "stream",
     "text": [
      "Enter the Lower Bound -4\n",
      "Enter the Upper Bound 2\n",
      "Enter the value of increament 1.2\n"
     ]
    },
    {
     "name": "stdout",
     "output_type": "stream",
     "text": [
      "The roots are x = -1.732 \n",
      "f(-1.732) = 0.00000\n",
      "The roots are x = 1.000 \n",
      "f(1.000) = 0.00000\n"
     ]
    }
   ],
   "source": [
    "def f(pr,x):\n",
    "    if x<0:\n",
    "        return x-x**2-x+3\n",
    "    else:\n",
    "        return -x-x**2-x+3\n",
    "a=float(input(\"Enter the Lower Bound\"))\n",
    "b=float(input(\"Enter the Upper Bound\"))\n",
    "pr=None\n",
    "tol=1e-6\n",
    "dx=float(input(\"Enter the value of increament\"))\n",
    "brck=brckSolsCnt(f,pr,a,b,dx)#list containing the required elements\n",
    "if brck!=None:\n",
    "    for br in brck:\n",
    "        x=bisec(f,pr,br,br+dx,tol)\n",
    "        print(\"The roots are x = %.3f \"%x)\n",
    "        print(\"f(%.3f) = %.5f\"%(x,f(None,x)))\n",
    "        \n",
    "        \n",
    "\n"
   ]
  },
  {
   "cell_type": "code",
   "execution_count": 16,
   "metadata": {},
   "outputs": [
    {
     "name": "stdin",
     "output_type": "stream",
     "text": [
      "Enter the Lower Bound  -10\n",
      "Enter the Upper Bound 10\n",
      "Enter the value of the increament 1.2\n"
     ]
    },
    {
     "name": "stdout",
     "output_type": "stream",
     "text": [
      "the roots are : -9.425\n",
      "f(-9.425) = 0.000477\n",
      "the roots are : -6.283\n",
      "f(-6.283) = -0.000101\n",
      "the roots are : -3.142\n",
      "f(-3.142) = -0.000002\n",
      "the roots are : 0.000\n",
      "f(0.000) = 0.000000\n",
      "the roots are : 3.142\n",
      "f(3.142) = -0.000058\n",
      "the roots are : 6.283\n",
      "f(6.283) = 0.000342\n",
      "the roots are : 9.425\n",
      "f(9.425) = 0.000608\n"
     ]
    }
   ],
   "source": [
    "def f(pr,x):\n",
    "    return x**2*sin(x)\n",
    "a=float(input(\"Enter the Lower Bound \"))\n",
    "b=float(input(\"Enter the Upper Bound\"))\n",
    "dx=float(input(\"Enter the value of the increament\"))\n",
    "tol=1e-5\n",
    "pr=None\n",
    "brck=brckSolsCnt(f,pr,a,b,dx)# brck will be initialised with the values of the required list\n",
    "if brck!=None:\n",
    "    for br in brck:\n",
    "        x=bisec(f,pr,br,br+dx,tol)\n",
    "        print(\"the roots are : %.3f\"%x)\n",
    "        print(\"f(%.3f) = %.6f\"%(x,f(None,x)))\n",
    "        "
   ]
  },
  {
   "cell_type": "code",
   "execution_count": 25,
   "metadata": {},
   "outputs": [
    {
     "name": "stdin",
     "output_type": "stream",
     "text": [
      "Enter the no. of elments to be taken for local interpolation 4\n"
     ]
    },
    {
     "data": {
      "image/png": "[encoded data removed]",
      "text/plain": [
       "<Figure size 432x288 with 1 Axes>"
      ]
     },
     "metadata": {
      "needs_background": "light"
     },
     "output_type": "display_data"
    }
   ],
   "source": [
    "def f(pr,x):\n",
    "    fx=disToCnt(pr[0],pr[1],x,pr[2])\n",
    "    #pr[0] represents the x list values\n",
    "    #pr[1] represents the y list values\n",
    "    #pr[2] represents the no. of elements to be taken for local interpolation\n",
    "    return fx\n",
    "ob=open(\"bisecDisMul.dat\",\"r\")#object used to read a file named ..... .dat\n",
    "X=[]#list that takes the x values from the file \n",
    "Y=[]#list that takes the y values from the file\n",
    "while True :\n",
    "    data= ob.readline().split()\n",
    "    if not data:\n",
    "        break\n",
    "    X.append(float(data[0]))\n",
    "    Y.append(float(data[1]))\n",
    "ob.close()\n",
    "m=int(input(\"Enter the no. of elments to be taken for local interpolation\"))\n",
    "pr=[X,Y,m]\n",
    "tol=1e-5\n",
    "X0=[]\n",
    "Y0=[]\n",
    "brck=brckSolsDis(X,Y)#Bracketed list of x values used to determine the roots\n",
    "for i in brck:\n",
    "    x=bisec(f,pr,X[i],X[i+1],tol)\n",
    "    X0.append(x)\n",
    "    Y0.append(f(pr,x))\n",
    "import matplotlib.pyplot as plt\n",
    "xax=[0 for i in range(len(X))]\n",
    "plt.plot(X,Y,'k:',label='Discrete Function')\n",
    "plt.plot(X,xax,'k-',label='X-axis')\n",
    "plt.plot(X0,Y0,'ko',label='Roots')\n",
    "plt.legend(loc='best',prop={'size':12})\n",
    "plt.show()\n",
    "\n",
    "    "
   ]
  },
  {
   "cell_type": "markdown",
   "metadata": {},
   "source": [
    "$\\huge Newton - Raphson ~Method~ for~ finding~ out ~roots$"
   ]
  },
  {
   "cell_type": "code",
   "execution_count": null,
   "metadata": {},
   "outputs": [],
   "source": [
    "def NR(f,pr1,dfdx,pr2,x1,maxItr,tol):\n",
    "    #f representes the given function\n",
    "    #pr1 are parameters of f\n",
    "    #dfdx representes the derivative of the given function\n",
    "    #pr2 representes the parameters of dfdx\n",
    "    #x1 representes the initial guess\n",
    "    #maxItr representes the maximum no. of iterations we gonna use here\n",
    "    #tol represents the tolerance\n",
    "    Itr=0 #it representes the count of the present No. of iterations\n",
    "    while True:\n",
    "        x2=x1-(f(pr1,x1)/dfdx(pr2,x1))\n",
    "        if abs(x2-x1)<=tol:\n",
    "            break\n",
    "        if Itr>=maxItr:\n",
    "            break\n",
    "        else:\n",
    "            Itr=Itr+1\n",
    "            x1=x2\n",
    "    #if f(pr,x2)==0:\n",
    "    #   return x2\n",
    "    #else:\n",
    "    #   print(\"Take a different initial choice\")\n",
    "    #   return None\n",
    "    return x2"
   ]
  },
  {
   "cell_type": "markdown",
   "metadata": {},
   "source": [
    "Examples"
   ]
  },
  {
   "cell_type": "code",
   "execution_count": 15,
   "metadata": {},
   "outputs": [
    {
     "name": "stdin",
     "output_type": "stream",
     "text": [
      "Enter the maximum no. of Iterations 1000\n",
      "Enter the Initial Guess ....  1.2\n"
     ]
    },
    {
     "name": "stdout",
     "output_type": "stream",
     "text": [
      "The root of the Equation is : -0.2215 \n",
      "f(-0.2215) = 0.0000\n"
     ]
    }
   ],
   "source": [
    "def f(pr,x):\n",
    "    return x**3+2*x**2+2.2*x+0.4\n",
    "def dfdx(pr,x):\n",
    "    return 3*x**2+4*x+2.2\n",
    "pr1=None\n",
    "pr2=None\n",
    "tol=1e-5\n",
    "maxItr=int(input(\"Enter the maximum no. of Iterations\"))\n",
    "#f,pr1,dfdx,pr2,x1,maxItr,tol\n",
    "x1=float(input(\"Enter the Initial Guess .... \"))\n",
    "x=NR(f,pr1,dfdx,pr2,x1,maxItr,tol)\n",
    "print(\"The root of the Equation is : %.4f \"%x)\n",
    "print(\"f(%.4f) = %.4f\"%(x,f(pr1,x)))"
   ]
  },
  {
   "cell_type": "code",
   "execution_count": 21,
   "metadata": {},
   "outputs": [
    {
     "name": "stdin",
     "output_type": "stream",
     "text": [
      "Enter the Intial Value :  100\n",
      "Enter the maximum number of iterations ....  10000\n"
     ]
    },
    {
     "name": "stdout",
     "output_type": "stream",
     "text": [
      "The Root of the above Equation is : 1.314 \n",
      "f(1.314) = 0.0000\n"
     ]
    }
   ],
   "source": [
    "from math import*\n",
    "def f(pr,x):\n",
    "    return x**2+log(x)-2\n",
    "def dfdx(pr,x):\n",
    "    return 2*x+(1/x)\n",
    "pr1=None\n",
    "pr2=None\n",
    "x1=float(input(\"Enter the Intial Value : \"))\n",
    "tol=1e-5\n",
    "maxItr=int(input(\"Enter the maximum number of iterations .... \"))\n",
    "x=NR(f,pr1,dfdx,pr2,x1,maxItr,tol)\n",
    "print('The Root of the above Equation is : %.3f '%x)\n",
    "print(\"f(%.3f) = %.4f\"%(x,f(None,x)))"
   ]
  },
  {
   "cell_type": "code",
   "execution_count": 23,
   "metadata": {},
   "outputs": [
    {
     "name": "stdin",
     "output_type": "stream",
     "text": [
      "Enter the Intial Value :  1.2\n",
      "Enter the maximum number of iterations ....  1000\n"
     ]
    },
    {
     "name": "stdout",
     "output_type": "stream",
     "text": [
      "The Root of the above Equation is : 1.665 \n",
      "f(1.665) = 0.0000\n"
     ]
    }
   ],
   "source": [
    "def f(pr,x):\n",
    "    return x**x+x-4\n",
    "def dfdx(pr,x):\n",
    "    return (1+log(x))*x**x+1\n",
    "pr1=None\n",
    "pr2=None\n",
    "x1=float(input(\"Enter the Intial Value : \"))\n",
    "tol=1e-5\n",
    "maxItr=int(input(\"Enter the maximum number of iterations .... \"))\n",
    "x=NR(f,pr1,dfdx,pr2,x1,maxItr,tol)\n",
    "print('The Root of the above Equation is : %.3f '%x)\n",
    "print(\"f(%.3f) = %.4f\"%(x,f(None,x)))"
   ]
  },
  {
   "cell_type": "code",
   "execution_count": 24,
   "metadata": {},
   "outputs": [
    {
     "name": "stdin",
     "output_type": "stream",
     "text": [
      "Enter the Intial Value :  1.2\n",
      "Enter the maximum number of iterations ....  1000\n"
     ]
    },
    {
     "name": "stdout",
     "output_type": "stream",
     "text": [
      "The Root of the above Equation is : 0.317 \n",
      "f(0.317) = 0.0000\n"
     ]
    }
   ],
   "source": [
    "def f(pr,x):\n",
    "    return 3*x-cos(x)\n",
    "def dfdx(pr,x):\n",
    "    return 3+sin(x)\n",
    "pr1=None\n",
    "pr2=None\n",
    "x1=float(input(\"Enter the Intial Value : \"))\n",
    "tol=1e-5\n",
    "maxItr=int(input(\"Enter the maximum number of iterations .... \"))\n",
    "x=NR(f,pr1,dfdx,pr2,x1,maxItr,tol)\n",
    "print('The Root of the above Equation is : %.3f '%x)\n",
    "print(\"f(%.3f) = %.4f\"%(x,f(None,x)))"
   ]
  },
  {
   "cell_type": "code",
   "execution_count": 18,
   "metadata": {},
   "outputs": [
    {
     "name": "stdin",
     "output_type": "stream",
     "text": [
      "Enter the value of n :  3\n",
      "Enter the number whose root you want to find..... 25\n",
      "Enter the Intial Value :  1.2\n",
      "Enter the maximum number of iterations ....  1000\n"
     ]
    },
    {
     "name": "stdout",
     "output_type": "stream",
     "text": [
      "The Root of the above Equation is x = : 2.924 \n",
      "f(2.924) = 0.0000\n"
     ]
    }
   ],
   "source": [
    "def f(pr,x):\n",
    "    return x**pr[0]-pr[1]\n",
    "def dfdx(pr,x):\n",
    "    return pr*x**(pr-1)\n",
    "n=int(input(\"Enter the value of n : \"))\n",
    "apl=float(input(\"Enter the number whose root you want to find.....\"))\n",
    "pr=[n,apl]\n",
    "\n",
    "x1=float(input(\"Enter the Intial Value : \"))\n",
    "tol=1e-5\n",
    "maxItr=int(input(\"Enter the maximum number of iterations .... \"))\n",
    "x=NR(f,pr,dfdx,pr[0],x1,maxItr,tol)\n",
    "print('The Root of the above Equation is x = : %.3f '%x)\n",
    "print(\"f(%.3f) = %.4f\"%(x,f(pr,x)))"
   ]
  },
  {
   "cell_type": "code",
   "execution_count": 29,
   "metadata": {},
   "outputs": [
    {
     "name": "stdin",
     "output_type": "stream",
     "text": [
      "Enter the Intial Value :  1\n",
      "Enter the maximum number of iterations ....  1000\n"
     ]
    },
    {
     "name": "stdout",
     "output_type": "stream",
     "text": [
      "The Root of the above Equation is : 1.672 \n",
      "f(1.672) = 0.0000\n"
     ]
    }
   ],
   "source": [
    "def f(pr,x):\n",
    "    return x**3-x-3\n",
    "def dfdx(pr,x):\n",
    "    return 3*x**2-1\n",
    "pr1=None\n",
    "pr2=None\n",
    "x1=float(input(\"Enter the Intial Value : \"))\n",
    "tol=1e-5\n",
    "maxItr=int(input(\"Enter the maximum number of iterations .... \"))\n",
    "x=NR(f,pr1,dfdx,pr2,x1,maxItr,tol)\n",
    "print('The Root of the above Equation is : %.3f '%x)\n",
    "print(\"f(%.3f) = %.4f\"%(x,f(None,x)))"
   ]
  },
  {
   "cell_type": "code",
   "execution_count": 41,
   "metadata": {},
   "outputs": [
    {
     "name": "stdin",
     "output_type": "stream",
     "text": [
      "Enter the maximum number of iterations ....  1000\n"
     ]
    },
    {
     "name": "stdout",
     "output_type": "stream",
     "text": [
      "The Root of the above Equation is : 6.283 \n",
      "f(6.283) = -0.0000\n"
     ]
    }
   ],
   "source": [
    "from math import*\n",
    "def f(pr,x):\n",
    "    return sin(x)\n",
    "def dfdx(pr,x):\n",
    "    return cos(x)\n",
    "pr1=None\n",
    "pr2=None\n",
    "x1=(2*pi)+(pi/6)\n",
    "tol=1e-5\n",
    "maxItr=int(input(\"Enter the maximum number of iterations .... \"))\n",
    "x=NR(f,pr1,dfdx,pr2,x1,maxItr,tol)\n",
    "print('The Root of the above Equation is : %.3f '%x)\n",
    "print(\"f(%.3f) = %.4f\"%(x,f(None,x)))"
   ]
  },
  {
   "cell_type": "code",
   "execution_count": 42,
   "metadata": {},
   "outputs": [
    {
     "name": "stdin",
     "output_type": "stream",
     "text": [
      "Enter the function x**3-x-0.1\n",
      "Enter the derivative of the function 3*x**2-1\n",
      "Enter the Intial Value :  1\n",
      "Enter the maximum number of iterations ....  10000\n"
     ]
    },
    {
     "name": "stdout",
     "output_type": "stream",
     "text": [
      "The Root of the above Equation is : 1.047 \n",
      "f(1.047) = -0.0000\n"
     ]
    }
   ],
   "source": [
    "def f(fx,x):\n",
    "    return eval(fx)\n",
    "def dfdx(dfxdx,x):\n",
    "    return eval(dfxdx)\n",
    "fx=input(\"Enter the function\")\n",
    "dfxdx=input(\"Enter the derivative of the function\")\n",
    "x1=float(input(\"Enter the Intial Value : \"))\n",
    "tol=1e-5\n",
    "maxItr=int(input(\"Enter the maximum number of iterations .... \"))\n",
    "x=NR(f,fx,dfdx,dfxdx,x1,maxItr,tol)\n",
    "print('The Root of the above Equation is : %.3f '%x)\n",
    "print(\"f(%.3f) = %.4f\"%(x,f(fx,x)))"
   ]
  },
  {
   "cell_type": "code",
   "execution_count": 17,
   "metadata": {},
   "outputs": [
    {
     "name": "stdin",
     "output_type": "stream",
     "text": [
      " Enter the Lower Bound :  0.8\n",
      "Enter the Upper Bound  1.2\n"
     ]
    },
    {
     "name": "stdout",
     "output_type": "stream",
     "text": [
      "The condition f(a)* f(b) < 0  is not satisfied \n"
     ]
    }
   ],
   "source": [
    "def f(pr,x):    #bisec(f,pr,a,b,tol)\n",
    "    return x**2-2*x+1\n",
    "a=float(input(\" Enter the Lower Bound : \"))\n",
    "b=float(input(\"Enter the Upper Bound \"))\n",
    "tol=1e-5\n",
    "pr=None \n",
    "x=bisec(f,pr,a,b,tol)\n",
    "if x!=None:\n",
    "    print(\"The root of the Equation is : x= %.3f\"%x)\n",
    "    print(\"f(%.3f) = %.4f\"%(x,f(None,x)))\n",
    "\n",
    "    "
   ]
  },
  {
   "cell_type": "code",
   "execution_count": 16,
   "metadata": {},
   "outputs": [
    {
     "data": {
      "image/png": "[encoded data removed]",
      "text/plain": [
       "<Figure size 432x288 with 1 Axes>"
      ]
     },
     "metadata": {
      "needs_background": "light"
     },
     "output_type": "display_data"
    }
   ],
   "source": [
    "import matplotlib.pyplot as plt\n",
    "import numpy as np\n",
    "def f(x):\n",
    "    return x**2-2*x+1\n",
    "x=np.linspace(-0.5,2.5,num=50)\n",
    "xax=[0 for i in range(len(x))]\n",
    "plt.plot(x,f(x),\"k-\",label='f(x)')\n",
    "plt.plot(x,xax,'k--',label='X-axis')\n",
    "plt.legend(loc='best',prop={'size':12})\n",
    "\n",
    "plt.show()"
   ]
  },
  {
   "cell_type": "code",
   "execution_count": 19,
   "metadata": {},
   "outputs": [
    {
     "name": "stdin",
     "output_type": "stream",
     "text": [
      "Enter the Lower Bound..... 2\n",
      "Enterthe upper bound.... 5\n"
     ]
    },
    {
     "name": "stdout",
     "output_type": "stream",
     "text": [
      "The Root of the Equation is : x = 2.851\n",
      "f(2.851) = 0.0000 \n"
     ]
    }
   ],
   "source": [
    "from math import*\n",
    "def f(pr,x):\n",
    "    return x*sin(x)+(x-2)*cos(x)\n",
    "a=float(input(\"Enter the Lower Bound.....\"))\n",
    "b=float(input(\"Enterthe upper bound....\"))\n",
    "pr=None\n",
    "tol=1e-5\n",
    "#bisec(f,pr,a,b,tol)\n",
    "x=bisec(f,pr,a,b,tol)\n",
    "if x!=None:\n",
    "    print(\"The Root of the Equation is : x = %.3f\"%x)\n",
    "    print(\"f(%.3f) = %.4f \"%(x,f(None,x)))"
   ]
  },
  {
   "cell_type": "code",
   "execution_count": 20,
   "metadata": {},
   "outputs": [
    {
     "name": "stdin",
     "output_type": "stream",
     "text": [
      "Enter the Lower Bound..... 0\n",
      "Enterthe upper bound.... 1\n"
     ]
    },
    {
     "name": "stdout",
     "output_type": "stream",
     "text": [
      "The condition f(a)* f(b) < 0  is not satisfied \n"
     ]
    }
   ],
   "source": [
    "from math import*\n",
    "def f(pr,x):\n",
    "    return x**3-4.23*x**2+5.702*x-2.484\n",
    "a=float(input(\"Enter the Lower Bound.....\"))\n",
    "b=float(input(\"Enterthe upper bound....\"))\n",
    "pr=None\n",
    "tol=1e-5\n",
    "#bisec(f,pr,a,b,tol)\n",
    "x=bisec(f,pr,a,b,tol)\n",
    "if x!=None:\n",
    "    print(\"The Root of the Equation is : x = %.3f\"%x)\n",
    "    print(\"f(%.3f) = %.4f \"%(x,f(None,x)))"
   ]
  },
  {
   "cell_type": "code",
   "execution_count": 21,
   "metadata": {},
   "outputs": [
    {
     "name": "stdin",
     "output_type": "stream",
     "text": [
      "Enter the Lower Bound..... 0\n",
      "Enterthe upper bound.... 5\n"
     ]
    },
    {
     "name": "stdout",
     "output_type": "stream",
     "text": [
      "The Root of the Equation is : x = 4.182\n",
      "f(4.182) = 0.0000 \n"
     ]
    }
   ],
   "source": [
    "from math import*\n",
    "def f(pr,x):\n",
    "    return x**3-5.81*x**2+8.632*x-7.632\n",
    "a=float(input(\"Enter the Lower Bound.....\"))\n",
    "b=float(input(\"Enterthe upper bound....\"))\n",
    "pr=None\n",
    "tol=1e-5\n",
    "#bisec(f,pr,a,b,tol)\n",
    "x=bisec(f,pr,a,b,tol)\n",
    "if x!=None:\n",
    "    print(\"The Root of the Equation is : x = %.3f\"%x)\n",
    "    print(\"f(%.3f) = %.4f \"%(x,f(None,x)))"
   ]
  },
  {
   "cell_type": "code",
   "execution_count": 22,
   "metadata": {},
   "outputs": [
    {
     "name": "stdin",
     "output_type": "stream",
     "text": [
      "Enter the Lower Bound..... 0\n",
      "Enterthe upper bound.... 10\n"
     ]
    },
    {
     "name": "stdout",
     "output_type": "stream",
     "text": [
      "The Root of the Equation is : x = 6.763\n",
      "f(6.763) = 0.0000 \n"
     ]
    }
   ],
   "source": [
    "from math import*\n",
    "def f(pr,x):\n",
    "    return 20-2.5*x-0.01*x**3\n",
    "a=float(input(\"Enter the Lower Bound.....\"))\n",
    "b=float(input(\"Enterthe upper bound....\"))\n",
    "pr=None\n",
    "tol=1e-5\n",
    "#bisec(f,pr,a,b,tol)\n",
    "x=bisec(f,pr,a,b,tol)\n",
    "if x!=None:\n",
    "    print(\"The Root of the Equation is : x = %.3f\"%x)\n",
    "    print(\"f(%.3f) = %.4f \"%(x,f(None,x)))"
   ]
  },
  {
   "cell_type": "code",
   "execution_count": 23,
   "metadata": {},
   "outputs": [
    {
     "name": "stdin",
     "output_type": "stream",
     "text": [
      "Enter the Lower Bound..... 2\n",
      "Enterthe upper bound.... 4\n"
     ]
    },
    {
     "ename": "TypeError",
     "evalue": "'>' not supported between instances of 'complex' and 'int'",
     "output_type": "error",
     "traceback": [
      "\u001b[1;31m---------------------------------------------------------------------------\u001b[0m",
      "\u001b[1;31mTypeError\u001b[0m                                 Traceback (most recent call last)",
      "\u001b[1;32m<ipython-input-23-00d9dc651a56>\u001b[0m in \u001b[0;36m<module>\u001b[1;34m\u001b[0m\n\u001b[0;32m      7\u001b[0m \u001b[0mtol\u001b[0m\u001b[1;33m=\u001b[0m\u001b[1;36m1e-5\u001b[0m\u001b[1;33m\u001b[0m\u001b[1;33m\u001b[0m\u001b[0m\n\u001b[0;32m      8\u001b[0m \u001b[1;31m#bisec(f,pr,a,b,tol)\u001b[0m\u001b[1;33m\u001b[0m\u001b[1;33m\u001b[0m\u001b[1;33m\u001b[0m\u001b[0m\n\u001b[1;32m----> 9\u001b[1;33m \u001b[0mx\u001b[0m\u001b[1;33m=\u001b[0m\u001b[0mbisec\u001b[0m\u001b[1;33m(\u001b[0m\u001b[0mf\u001b[0m\u001b[1;33m,\u001b[0m\u001b[0mpr\u001b[0m\u001b[1;33m,\u001b[0m\u001b[0ma\u001b[0m\u001b[1;33m,\u001b[0m\u001b[0mb\u001b[0m\u001b[1;33m,\u001b[0m\u001b[0mtol\u001b[0m\u001b[1;33m)\u001b[0m\u001b[1;33m\u001b[0m\u001b[1;33m\u001b[0m\u001b[0m\n\u001b[0m\u001b[0;32m     10\u001b[0m \u001b[1;32mif\u001b[0m \u001b[0mx\u001b[0m\u001b[1;33m!=\u001b[0m\u001b[1;32mNone\u001b[0m\u001b[1;33m:\u001b[0m\u001b[1;33m\u001b[0m\u001b[1;33m\u001b[0m\u001b[0m\n\u001b[0;32m     11\u001b[0m     \u001b[0mprint\u001b[0m\u001b[1;33m(\u001b[0m\u001b[1;34m\"The Root of the Equation is : x = %.3f\"\u001b[0m\u001b[1;33m%\u001b[0m\u001b[0mx\u001b[0m\u001b[1;33m)\u001b[0m\u001b[1;33m\u001b[0m\u001b[1;33m\u001b[0m\u001b[0m\n",
      "\u001b[1;32m~\\Downloads\\bisec.py\u001b[0m in \u001b[0;36mbisec\u001b[1;34m(f, pr, a, b, tol)\u001b[0m\n\u001b[0;32m      1\u001b[0m \u001b[1;32mdef\u001b[0m \u001b[0mbisec\u001b[0m\u001b[1;33m(\u001b[0m\u001b[0mf\u001b[0m\u001b[1;33m,\u001b[0m\u001b[0mpr\u001b[0m\u001b[1;33m,\u001b[0m\u001b[0ma\u001b[0m\u001b[1;33m,\u001b[0m\u001b[0mb\u001b[0m\u001b[1;33m,\u001b[0m\u001b[0mtol\u001b[0m\u001b[1;33m)\u001b[0m\u001b[1;33m:\u001b[0m\u001b[1;33m\u001b[0m\u001b[1;33m\u001b[0m\u001b[0m\n\u001b[1;32m----> 2\u001b[1;33m     \u001b[1;32mif\u001b[0m \u001b[0mf\u001b[0m\u001b[1;33m(\u001b[0m\u001b[0mpr\u001b[0m\u001b[1;33m,\u001b[0m\u001b[0ma\u001b[0m\u001b[1;33m)\u001b[0m\u001b[1;33m*\u001b[0m\u001b[0mf\u001b[0m\u001b[1;33m(\u001b[0m\u001b[0mpr\u001b[0m\u001b[1;33m,\u001b[0m\u001b[0mb\u001b[0m\u001b[1;33m)\u001b[0m\u001b[1;33m>\u001b[0m\u001b[1;36m0\u001b[0m\u001b[1;33m:\u001b[0m\u001b[1;33m\u001b[0m\u001b[1;33m\u001b[0m\u001b[0m\n\u001b[0m\u001b[0;32m      3\u001b[0m         \u001b[0mprint\u001b[0m\u001b[1;33m(\u001b[0m\u001b[1;34m\"The condition f(a)* f(b) < 0  is not satisfied \"\u001b[0m\u001b[1;33m)\u001b[0m\u001b[1;33m\u001b[0m\u001b[1;33m\u001b[0m\u001b[0m\n\u001b[0;32m      4\u001b[0m         \u001b[1;32mreturn\u001b[0m \u001b[1;32mNone\u001b[0m\u001b[1;33m\u001b[0m\u001b[1;33m\u001b[0m\u001b[0m\n\u001b[0;32m      5\u001b[0m \u001b[1;33m\u001b[0m\u001b[0m\n",
      "\u001b[1;31mTypeError\u001b[0m: '>' not supported between instances of 'complex' and 'int'"
     ]
    }
   ],
   "source": [
    "from math import*\n",
    "def f(pr,x):\n",
    "    return ((x-2.1)**(1/4))+((4.1-x)**(1/3))\n",
    "a=float(input(\"Enter the Lower Bound.....\"))\n",
    "b=float(input(\"Enterthe upper bound....\"))\n",
    "pr=None\n",
    "tol=1e-5\n",
    "#bisec(f,pr,a,b,tol)\n",
    "x=bisec(f,pr,a,b,tol)\n",
    "if x!=None:\n",
    "    print(\"The Root of the Equation is : x = %.3f\"%x)\n",
    "    print(\"f(%.3f) = %.4f \"%(x,f(None,x)))"
   ]
  },
  {
   "cell_type": "code",
   "execution_count": 24,
   "metadata": {},
   "outputs": [
    {
     "name": "stdin",
     "output_type": "stream",
     "text": [
      "Enter the Lower Bound..... 5\n",
      "Enterthe upper bound.... 7\n"
     ]
    },
    {
     "name": "stdout",
     "output_type": "stream",
     "text": [
      "The Root of the Equation is : x = 6.117\n",
      "f(6.117) = 0.0000 \n"
     ]
    }
   ],
   "source": [
    "from math import*\n",
    "def f(pr,x):\n",
    "    return tan(x)-(x/(1-x**2))\n",
    "a=float(input(\"Enter the Lower Bound.....\"))\n",
    "b=float(input(\"Enterthe upper bound....\"))\n",
    "pr=None\n",
    "tol=1e-5\n",
    "#bisec(f,pr,a,b,tol)\n",
    "x=bisec(f,pr,a,b,tol)\n",
    "if x!=None:\n",
    "    print(\"The Root of the Equation is : x = %.3f\"%x)\n",
    "    print(\"f(%.3f) = %.4f \"%(x,f(None,x)))"
   ]
  },
  {
   "cell_type": "code",
   "execution_count": 27,
   "metadata": {},
   "outputs": [
    {
     "name": "stdin",
     "output_type": "stream",
     "text": [
      "Enter the Initial value 3\n",
      "Enter the maximum number of Iterations 1000\n"
     ]
    },
    {
     "name": "stdout",
     "output_type": "stream",
     "text": [
      "The root of the Equation is : x = 1.000\n",
      "f(1.000) = 0.0000\n"
     ]
    }
   ],
   "source": [
    "#NR(f,pr1,dfdx,pr2,x1,maxItr,tol)\n",
    "from math import*\n",
    "def f(pr,x):\n",
    "    return (1-x**2)*tan(x)\n",
    "def dfdx(pr,x):\n",
    "    return (1-x**2)*(cos(x)/sin(x))-2*x*tan(x)\n",
    "pr1=None\n",
    "pr2=None\n",
    "x1=float(input(\"Enter the Initial value\"))\n",
    "maxItr=int(input(\"Enter the maximum number of Iterations\"))\n",
    "tol=1e-5\n",
    "x=NR(f,pr1,dfdx,pr2,x1,maxItr,tol)\n",
    "print(\"The root of the Equation is : x = %.3f\"%x)\n",
    "print(\"f(%.3f) = %.4f\"%(x,f(None,x)))"
   ]
  },
  {
   "cell_type": "code",
   "execution_count": 28,
   "metadata": {},
   "outputs": [
    {
     "name": "stdin",
     "output_type": "stream",
     "text": [
      "Enter the Initial value 3\n",
      "Enter the maximum number of Iterations 1000\n"
     ]
    },
    {
     "name": "stdout",
     "output_type": "stream",
     "text": [
      "The root of the Equation is : x = 3.146\n",
      "f(3.146) = -0.0000\n"
     ]
    }
   ],
   "source": [
    "#NR(f,pr1,dfdx,pr2,x1,maxItr,tol)\n",
    "from math import*\n",
    "def f(pr,x):\n",
    "    return log(x)-x+2\n",
    "def dfdx(pr,x):\n",
    "    return (1/x)-1\n",
    "pr1=None\n",
    "pr2=None\n",
    "x1=float(input(\"Enter the Initial value\"))\n",
    "maxItr=int(input(\"Enter the maximum number of Iterations\"))\n",
    "tol=1e-5\n",
    "x=NR(f,pr1,dfdx,pr2,x1,maxItr,tol)\n",
    "print(\"The root of the Equation is : x = %.3f\"%x)\n",
    "print(\"f(%.3f) = %.4f\"%(x,f(None,x)))"
   ]
  },
  {
   "cell_type": "code",
   "execution_count": 29,
   "metadata": {},
   "outputs": [
    {
     "name": "stdin",
     "output_type": "stream",
     "text": [
      "Enter the Initial value 2\n",
      "Enter the maximum number of Iterations 10000\n"
     ]
    },
    {
     "name": "stdout",
     "output_type": "stream",
     "text": [
      "The root of the Equation is : x = 2.499\n",
      "f(2.499) = 0.0000\n"
     ]
    }
   ],
   "source": [
    "#NR(f,pr1,dfdx,pr2,x1,maxItr,tol)\n",
    "from math import*\n",
    "def f(pr,x):\n",
    "    return x**2*log(x)-5.72\n",
    "def dfdx(pr,x):\n",
    "    return x*(1+2*log(x))\n",
    "pr1=None\n",
    "pr2=None\n",
    "x1=float(input(\"Enter the Initial value\"))\n",
    "maxItr=int(input(\"Enter the maximum number of Iterations\"))\n",
    "tol=1e-5\n",
    "x=NR(f,pr1,dfdx,pr2,x1,maxItr,tol)\n",
    "print(\"The root of the Equation is : x = %.3f\"%x)\n",
    "print(\"f(%.3f) = %.4f\"%(x,f(None,x)))"
   ]
  },
  {
   "cell_type": "code",
   "execution_count": 30,
   "metadata": {},
   "outputs": [
    {
     "name": "stdin",
     "output_type": "stream",
     "text": [
      "Enter the Initial value 1\n",
      "Enter the maximum number of Iterations 10000\n"
     ]
    },
    {
     "name": "stdout",
     "output_type": "stream",
     "text": [
      "The root of the Equation is : x = 0.901\n",
      "f(0.901) = 0.0000\n"
     ]
    }
   ],
   "source": [
    "#NR(f,pr1,dfdx,pr2,x1,maxItr,tol)\n",
    "from math import*\n",
    "def f(pr,x):\n",
    "    return x**2-2*exp(-x)\n",
    "def dfdx(pr,x):\n",
    "    return 2*x+2*exp(-x)\n",
    "pr1=None\n",
    "pr2=None\n",
    "x1=float(input(\"Enter the Initial value\"))\n",
    "maxItr=int(input(\"Enter the maximum number of Iterations\"))\n",
    "tol=1e-5\n",
    "x=NR(f,pr1,dfdx,pr2,x1,maxItr,tol)\n",
    "print(\"The root of the Equation is : x = %.3f\"%x)\n",
    "print(\"f(%.3f) = %.4f\"%(x,f(None,x)))"
   ]
  },
  {
   "cell_type": "code",
   "execution_count": 31,
   "metadata": {},
   "outputs": [
    {
     "name": "stdin",
     "output_type": "stream",
     "text": [
      "Enter the Initial value 4\n",
      "Enter the maximum number of Iterations 10000\n"
     ]
    },
    {
     "name": "stdout",
     "output_type": "stream",
     "text": [
      "The root of the Equation is : x = 2.851\n",
      "f(2.851) = 0.0000\n"
     ]
    }
   ],
   "source": [
    "#NR(f,pr1,dfdx,pr2,x1,maxItr,tol)\n",
    "from math import*\n",
    "def f(pr,x):\n",
    "    return x*sin(x)+(x-2)*cos(x)\n",
    "def dfdx(pr,x):\n",
    "    return cos(x)*(1+x)+sin(x)*(x+3)\n",
    "pr1=None\n",
    "pr2=None\n",
    "x1=float(input(\"Enter the Initial value\"))\n",
    "maxItr=int(input(\"Enter the maximum number of Iterations\"))\n",
    "tol=1e-5\n",
    "x=NR(f,pr1,dfdx,pr2,x1,maxItr,tol)\n",
    "print(\"The root of the Equation is : x = %.3f\"%x)\n",
    "print(\"f(%.3f) = %.4f\"%(x,f(None,x)))"
   ]
  },
  {
   "cell_type": "code",
   "execution_count": 32,
   "metadata": {},
   "outputs": [
    {
     "name": "stdin",
     "output_type": "stream",
     "text": [
      "Enter the Initial value 2\n",
      "Enter the maximum number of Iterations 10000\n"
     ]
    },
    {
     "name": "stdout",
     "output_type": "stream",
     "text": [
      "The root of the Equation is : x = 25.133\n",
      "f(25.133) = 0.0000\n"
     ]
    }
   ],
   "source": [
    "#NR(f,pr1,dfdx,pr2,x1,maxItr,tol)\n",
    "from math import*\n",
    "def f(pr,x):\n",
    "    return exp(-x)-sin(x)\n",
    "def dfdx(pr,x):\n",
    "    return -exp(-x)-cos(x)\n",
    "pr1=None\n",
    "pr2=None\n",
    "x1=float(input(\"Enter the Initial value\"))\n",
    "maxItr=int(input(\"Enter the maximum number of Iterations\"))\n",
    "tol=1e-5\n",
    "x=NR(f,pr1,dfdx,pr2,x1,maxItr,tol)\n",
    "print(\"The root of the Equation is : x = %.3f\"%x)\n",
    "print(\"f(%.3f) = %.4f\"%(x,f(None,x)))"
   ]
  },
  {
   "cell_type": "code",
   "execution_count": null,
   "metadata": {},
   "outputs": [],
   "source": []
  },
  {
   "cell_type": "code",
   "execution_count": null,
   "metadata": {},
   "outputs": [],
   "source": []
  },
  {
   "cell_type": "code",
   "execution_count": null,
   "metadata": {},
   "outputs": [],
   "source": []
  },
  {
   "cell_type": "code",
   "execution_count": null,
   "metadata": {},
   "outputs": [],
   "source": []
  },
  {
   "cell_type": "code",
   "execution_count": null,
   "metadata": {},
   "outputs": [],
   "source": []
  },
  {
   "cell_type": "code",
   "execution_count": null,
   "metadata": {},
   "outputs": [],
   "source": []
  },
  {
   "cell_type": "code",
   "execution_count": null,
   "metadata": {},
   "outputs": [],
   "source": []
  },
  {
   "cell_type": "code",
   "execution_count": null,
   "metadata": {},
   "outputs": [],
   "source": []
  }
 ],
 "metadata": {
  "kernelspec": {
   "display_name": "Python 3",
   "language": "python",
   "name": "python3"
  },
  "language_info": {
   "codemirror_mode": {
    "name": "ipython",
    "version": 3
   },
   "file_extension": ".py",
   "mimetype": "text/x-python",
   "name": "python",
   "nbconvert_exporter": "python",
   "pygments_lexer": "ipython3",
   "version": "3.8.5"
  }
 },
 "nbformat": 4,
 "nbformat_minor": 4
}
