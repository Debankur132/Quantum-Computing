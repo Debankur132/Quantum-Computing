{
 "cells": [
  {
   "cell_type": "markdown",
   "metadata": {},
   "source": [
    "$\\huge Trapizoidal~ Rule~ for~ Integration$"
   ]
  },
  {
   "cell_type": "code",
   "execution_count": null,
   "metadata": {},
   "outputs": [],
   "source": [
    "def trapX(f,pr,a,b,tol):\n",
    "    fa=f(pr,a)#the value of the function at the left end\n",
    "    fb=f(pr,b)# the value of the function at the right end\n",
    "    n=10 #starting with a initial value of no. of sub-divisions \n",
    "    f1=0\n",
    "    while True:\n",
    "        h=(b-a)/n\n",
    "        f2=0\n",
    "        for i in range(1,n):\n",
    "            f2=f2+f(pr,a+i*h)\n",
    "        f2=(h/2)*(fa+2*f2+fb)\n",
    "        if abs(f2-f1) <=tol:\n",
    "            break\n",
    "        f1=f2\n",
    "        n=n+10\n",
    "    return f2      "
   ]
  },
  {
   "cell_type": "code",
   "execution_count": null,
   "metadata": {},
   "outputs": [],
   "source": [
    "from math import*\n",
    "def f(pr,x):\n",
    "    return sin(x)\n",
    "pr=None\n",
    "a=pi/3\n",
    "b=2*pi\n",
    "tol=1e-9\n",
    "F=trapX(f,pr,a,b,tol)\n",
    "ext=cos(pi/3)-cos(2*pi)\n",
    "print(\"Calculated value : \",F,\"Exact value : \",ext)"
   ]
  },
  {
   "cell_type": "code",
   "execution_count": null,
   "metadata": {},
   "outputs": [],
   "source": [
    "from math import*\n",
    "def f(pr,x):\n",
    "    return x**0.5*exp(x)\n",
    "pr=None\n",
    "a=0\n",
    "b=pi\n",
    "tol=1e-7\n",
    "I=trapX(f,pr,a,b,tol)\n",
    "print(\"The calculated Numerical value of the Integration is : \",I)"
   ]
  },
  {
   "cell_type": "code",
   "execution_count": null,
   "metadata": {},
   "outputs": [],
   "source": [
    "from math import*\n",
    "def f(pr,x):\n",
    "    return x**2.5*exp(-x)\n",
    "pr=None\n",
    "a=pi/2\n",
    "b=pi\n",
    "tol=1e-7\n",
    "I=trapX(f,pr,a,b,tol)\n",
    "print(\"The calculated Numerical value of the Integration is : \",I)"
   ]
  },
  {
   "cell_type": "code",
   "execution_count": null,
   "metadata": {},
   "outputs": [],
   "source": [
    "from math import*\n",
    "def f(pr,x):\n",
    "    return cos(x)/x**4\n",
    "pr=None\n",
    "a=pi/3\n",
    "b=pi/2\n",
    "tol=1e-7\n",
    "I=trapX(f,pr,a,b,tol)\n",
    "print(\"The calculated Numerical value of the Integration is : \",I)"
   ]
  },
  {
   "cell_type": "markdown",
   "metadata": {},
   "source": [
    "$ \\huge Composite ~Simpson~ \\frac{1}{3} ~Rule $"
   ]
  },
  {
   "cell_type": "code",
   "execution_count": null,
   "metadata": {},
   "outputs": [],
   "source": [
    "def simp13X(f,pr,a,b,tol):\n",
    "    fa=f(pr,a)\n",
    "    fb=f(pr,b)\n",
    "    f1=0\n",
    "    n=10\n",
    "    while True:\n",
    "        h=(b-a)/n\n",
    "        f2=0\n",
    "        for i in range(1,n):\n",
    "            if i%2==0:\n",
    "                f2=f2+2*f(pr,a+i*h)\n",
    "            else:\n",
    "                f2=f2+4*f(pr,a+i*h)\n",
    "        f2=(h/3)*(fa+f2+fb)\n",
    "        if abs(f2-f1)<=tol:\n",
    "            break\n",
    "        f1=f2\n",
    "        n=n+10\n",
    "    return f2"
   ]
  },
  {
   "cell_type": "code",
   "execution_count": 1,
   "metadata": {},
   "outputs": [],
   "source": [
    "def simp13Xdis(h,fx):\n",
    "    #h denotes the step length \n",
    "    #fx denotes the discrete y-values of the list\n",
    "    n=len(fx)\n",
    "    f2=0\n",
    "    for i in range(n):\n",
    "        if i==0 or i==n-1:\n",
    "            f2=f2+fx[i]\n",
    "        elif i%2==0:\n",
    "            f2=f2+2*fx[i]\n",
    "        else:\n",
    "            f2=f2+4*fx[i]\n",
    "    f2=f2*(h/3)\n",
    "    return f2"
   ]
  },
  {
   "cell_type": "markdown",
   "metadata": {},
   "source": [
    "Examples"
   ]
  },
  {
   "cell_type": "code",
   "execution_count": null,
   "metadata": {},
   "outputs": [],
   "source": [
    "from math import*\n",
    "def f(pr,x):\n",
    "    return sin(x)\n",
    "pr=None\n",
    "a=pi/3\n",
    "b=2*pi\n",
    "tol=1e-6\n",
    "I=simp13X(f,pr,a,b,tol)\n",
    "print(\"The calculated numerical value of the Intergration is : \",I)"
   ]
  },
  {
   "cell_type": "code",
   "execution_count": null,
   "metadata": {},
   "outputs": [],
   "source": [
    "from math import*\n",
    "def f(pr,x):\n",
    "    return exp(x**0.5)*sin(x**2)\n",
    "a=2.5\n",
    "b=3\n",
    "tol=1e-5\n",
    "I=simp13X(f,pr,a,b,tol)\n",
    "print(\"The calculated value of the integral is : \",I)"
   ]
  },
  {
   "cell_type": "code",
   "execution_count": null,
   "metadata": {},
   "outputs": [],
   "source": [
    "from math import*\n",
    "def f(pr,x):\n",
    "    return exp(-(x-1)**2)\n",
    "a=-2\n",
    "b=4\n",
    "tol=1e-5\n",
    "I=simp13X(f,pr,a,b,tol)\n",
    "print(\"The calculated value of the integral is : \",I)"
   ]
  },
  {
   "cell_type": "code",
   "execution_count": null,
   "metadata": {},
   "outputs": [],
   "source": [
    "from math import*\n",
    "def f(pr,x):\n",
    "    return exp(-x**2)\n",
    "def errfunc(x):\n",
    "    tol=1e-5\n",
    "    return simp13X(f,None,0,x,tol)\n",
    "x0,xn,dx=0,5,0.01\n",
    "X=[]\n",
    "Y=[]\n",
    "while x0<=xn:\n",
    "    X.append(x0)\n",
    "    Y.append(errfunc(x0))\n",
    "    x0=x0+dx\n",
    "import matplotlib.pyplot as plt\n",
    "plt.plot(X,Y,label='f(x)')\n",
    "plt.legend(loc='best',prop={'size':15})\n",
    "plt.show()\n",
    "    "
   ]
  },
  {
   "cell_type": "code",
   "execution_count": null,
   "metadata": {},
   "outputs": [],
   "source": [
    "from math import*\n",
    "def f(pr,x):\n",
    "    return cos(pi*x)\n",
    "I=simp13X(f,None,0,0.5,1e-5)\n",
    "print(I,' units ')"
   ]
  },
  {
   "cell_type": "code",
   "execution_count": null,
   "metadata": {},
   "outputs": [],
   "source": [
    "def f(pr,x):\n",
    "    return x**4*exp(x)/(exp(x)-1)**2\n",
    "x0=0.1\n",
    "xn=3\n",
    "X=[]\n",
    "Y=[]\n",
    "while x0<=3:\n",
    "    I=simp13X(f,None,0.0001,x0,1e-5)\n",
    "    X.append(x0)\n",
    "    Y.append(3*x0**3*I)\n",
    "    x0=x0+0.01\n",
    "import matplotlib.pyplot as plt\n",
    "plt.plot(Y,X)\n",
    "plt.xlabel(r'$\\frac{T}{T_D}$')\n",
    "plt.ylabel(r'$\\frac{C_V}{3Nk_B}$')\n",
    "plt.show()\n",
    "    "
   ]
  },
  {
   "cell_type": "code",
   "execution_count": null,
   "metadata": {},
   "outputs": [],
   "source": [
    "def f(pr,th):#function to be integrated\n",
    "    return 0.5*r(pr,th)**2\n",
    "#Integration using Simpson's 1/3 rule .....\n",
    "def area(f,pr,a,b,tol):# .......r,pr,a,b,tol\n",
    "    return simp13X(f,pr,a,b,tol)"
   ]
  },
  {
   "cell_type": "markdown",
   "metadata": {},
   "source": [
    "Example No. 1 : Area of a circle"
   ]
  },
  {
   "cell_type": "code",
   "execution_count": null,
   "metadata": {},
   "outputs": [],
   "source": [
    "#main\n",
    "from math import*\n",
    "# area of a circle .......r(th)=R\n",
    "#R is the radius of the circle\n",
    "def r(pr,th):# here parameter pr is R the radius\n",
    "    return pr\n",
    "a=0\n",
    "b=2*pi\n",
    "tol=1e-5\n",
    "R=1#unit radiius\n",
    "pr=R\n",
    "I=area(f,pr,a,b,tol)\n",
    "print(I)\n"
   ]
  },
  {
   "cell_type": "markdown",
   "metadata": {},
   "source": [
    "Example 2 : Area of an ellipse"
   ]
  },
  {
   "cell_type": "code",
   "execution_count": null,
   "metadata": {},
   "outputs": [],
   "source": [
    "from math import*\n",
    "def r(pr,th):\n",
    "    return pr/(1+pr*cos(th))\n",
    "a=0\n",
    "b=2*pi\n",
    "tol=1e-7\n",
    "e=0.7#value of the eccentricity of the curve.....\n",
    "pr=e\n",
    "print(\"the value of the Numerical Integration is : \",area(f,pr,a,b,tol))"
   ]
  },
  {
   "cell_type": "markdown",
   "metadata": {},
   "source": [
    "Example 3 : Area of a Pental Rose"
   ]
  },
  {
   "cell_type": "code",
   "execution_count": null,
   "metadata": {},
   "outputs": [],
   "source": [
    "from math import*\n",
    "def r(pr,th):\n",
    "    return sin(3*th)\n",
    "pr=None\n",
    "a=0\n",
    "b=pi/3\n",
    "tol=1e-6\n",
    "I=area(f,pr,a,b,tol)\n",
    "print(\"The area under the curve is : \",I)\n",
    "t=0#initial value of theta \n",
    "T=[]\n",
    "R=[]\n",
    "import matplotlib.pyplot as plt\n",
    "while t<=pi/3:\n",
    "    T.append(t)\n",
    "    R.append(r(None,t))\n",
    "    t=t+0.01\n",
    "plt.polar(T,R,'k-')\n",
    "plt.show()"
   ]
  },
  {
   "cell_type": "markdown",
   "metadata": {},
   "source": [
    "Example 4 : The common Area under two curves "
   ]
  },
  {
   "cell_type": "code",
   "execution_count": null,
   "metadata": {},
   "outputs": [],
   "source": [
    "from bisec import*\n",
    "def f0_f1(pr,x):\n",
    "    #pr[0]=f0\n",
    "    #pr[1]=pr0\n",
    "    #pr[2]=f1\n",
    "    #pr[3]=pr1\n",
    "    return pr[0](pr[1],x)-pr[2](pr[3],x)\n",
    "def getIntsec(f0,pr0,f1,pr1,a,b,dx,tol):\n",
    "    pr=[f0,pr0,f1,pr1]\n",
    "    X=[]\n",
    "    xx=a\n",
    "    while xx<=b:\n",
    "        if f0_f1(pr,xx+dx)*f0_f1(pr,xx)<0:\n",
    "            X.append(bisec(f0_f1,pr,xx,xx+dx,tol))\n",
    "        xx=xx+dx\n",
    "    return X\n",
    "def getArea(f0,pr0,f1,pr1,a,b,dx,tol):\n",
    "    x=getIntsec(f0,pr0,f1,pr1,a,b,dx,tol)#a list containing all the points of intersection.....\n",
    "    n=len(x)\n",
    "    areasum=0\n",
    "    for i in range(n-1):\n",
    "        I0=simp13X(f0,pr0,x[i],x[i+1],tol)\n",
    "        I1=simp13X(f1,pr1,x[i],x[i+1],tol)\n",
    "        areasum+=abs(I1-I0)\n",
    "    return x,areasum"
   ]
  },
  {
   "cell_type": "markdown",
   "metadata": {},
   "source": [
    "$f_0=-x^2+3x ~and~ f_1=2x^3-x^2-5x$"
   ]
  },
  {
   "cell_type": "code",
   "execution_count": null,
   "metadata": {},
   "outputs": [],
   "source": [
    "def f0(pr0,x):\n",
    "    return -x**2+3*x\n",
    "def f1(pr1,x):\n",
    "    return 2*x**3-x**2-5*x\n",
    "pr0=None\n",
    "pr1=None\n",
    "a=-3\n",
    "b=3\n",
    "dx=0.1\n",
    "tol=1e-6\n",
    "A=getArea(f0,pr0,f1,pr1,a,b,dx,tol)\n",
    "print(\"The area between the two curves .....\",A[1])\n",
    "import matplotlib.pyplot as plt\n",
    "F0=[]\n",
    "F1=[]\n",
    "F2=[]\n",
    "\n",
    "Ints=getIntsec(f0,pr0,f1,pr1,a,b,dx,tol)\n",
    "n=len(Ints)\n",
    "for i in range(n):\n",
    "    F2.append(f0(None,Ints[i]))\n",
    "    \n",
    "X=[]\n",
    "t=a\n",
    "while t<=b:\n",
    "    F0.append(f0(None,t))\n",
    "    F1.append(f1(None,t))\n",
    "    X.append(t)\n",
    "    t=t+dx\n",
    "plt.plot(X,F0,'k--',label=r'$f_0(x)$')\n",
    "plt.plot(X,F1,'k:',label=r'$f_1(x)$')\n",
    "plt.plot(Ints,F2,'k*',label='Points of intersection')\n",
    "plt.legend(loc='best',prop={'size':10})\n",
    "plt.show()"
   ]
  },
  {
   "cell_type": "markdown",
   "metadata": {},
   "source": [
    "$f_0=x^4-2x^2~and~f_2=2x^2$"
   ]
  },
  {
   "cell_type": "code",
   "execution_count": null,
   "metadata": {},
   "outputs": [],
   "source": [
    "def f0(pr0,x):\n",
    "    return x**4-2*x**2\n",
    "def f1(pr1,x):\n",
    "    return 2*x**2\n",
    "pr0=None\n",
    "pr1=None\n",
    "a=-3\n",
    "b=3\n",
    "dx=0.1\n",
    "tol=1e-6\n",
    "A=getArea(f0,pr0,f1,pr1,a,b,dx,tol)\n",
    "print(\"The area under the curve is : \",A[1])\n",
    "\n",
    "xr=getIntsec(f0,pr0,f1,pr1,a,b,dx,tol)\n",
    "F2=[]\n",
    "F0=[]\n",
    "F1=[]\n",
    "X=[]\n",
    "n=len(xr)\n",
    "for i in range(n):\n",
    "    F2.append(f0(None,xr[i]))\n",
    "t=a\n",
    "import matplotlib.pyplot as plt\n",
    "while t<=b:\n",
    "    X.append(t)\n",
    "    F0.append(f0(None,t))\n",
    "    F1.append(f1(None,t))\n",
    "    t=t+dx\n",
    "plt.plot(X,F0,'k--',label=r'$f_0(x)$')\n",
    "plt.plot(X,F1,'k:',label=r'$f_1(x)$')\n",
    "plt.plot(xr,F2,'ko',label=r'Intersection')\n",
    "plt.legend(loc='best',prop={'size':12})\n",
    "plt.show()"
   ]
  },
  {
   "cell_type": "markdown",
   "metadata": {},
   "source": [
    "Example 5 : To find the arc length of the curve "
   ]
  },
  {
   "cell_type": "code",
   "execution_count": null,
   "metadata": {},
   "outputs": [],
   "source": [
    "from dfdx3 import*\n",
    "def arclenfunc(pr,x):\n",
    "    dydx=dfdx3(f,pr,x,tol)\n",
    "    return (1+dydx**2)**0.5\n",
    "def arclength(f,pr,a,b,tol):\n",
    "    L=simp13X(arclenfunc,pr,a,b,tol)\n",
    "    return L"
   ]
  },
  {
   "cell_type": "markdown",
   "metadata": {},
   "source": [
    "For a straight line"
   ]
  },
  {
   "cell_type": "code",
   "execution_count": null,
   "metadata": {},
   "outputs": [],
   "source": [
    "def f(pr,x):\n",
    "    return pr*x\n",
    "pr=1\n",
    "a=0\n",
    "b=1\n",
    "tol=1e-5\n",
    "L=arclength(f,pr,a,b,tol)\n",
    "print(\"The Length of the arc is : \",L)"
   ]
  },
  {
   "cell_type": "markdown",
   "metadata": {},
   "source": [
    "Perimeter of the half circle"
   ]
  },
  {
   "cell_type": "code",
   "execution_count": null,
   "metadata": {},
   "outputs": [],
   "source": [
    "def f(pr,x):\n",
    "    return (pr**2-x**2)**0.5\n",
    "\n",
    "a=1#radius of the circle \n",
    "\n",
    "tol=1e-5\n",
    "L=arclength(f,a,-a,a,tol)\n",
    "print(L)"
   ]
  },
  {
   "cell_type": "markdown",
   "metadata": {},
   "source": [
    "sin(x)"
   ]
  },
  {
   "cell_type": "code",
   "execution_count": null,
   "metadata": {},
   "outputs": [],
   "source": [
    "from math import*\n",
    "def f(pr,x):\n",
    "    return sin(x)\n",
    "pr=None\n",
    "a=0\n",
    "b=2*pi\n",
    "tol=1e-6\n",
    "L=arclength(f,pr,a,b,tol)\n",
    "print(\"The arc length is : \",L)"
   ]
  },
  {
   "cell_type": "markdown",
   "metadata": {},
   "source": [
    "$Example ~6 : Line ~Integral~ of~ a~ vector~ field$"
   ]
  },
  {
   "cell_type": "code",
   "execution_count": null,
   "metadata": {},
   "outputs": [],
   "source": [
    "from dfdx3 import*\n",
    "def dAdr(fpr,t):\n",
    "    #fpr=[[Ax,Ay,Az],[x,y,z],[pr0,pr1,pr2],tol]\n",
    "    n=len(fpr[1])#3 for a 3-D space \n",
    "    sum=0\n",
    "    for i in range(n):\n",
    "        sum+=fpr[0][i](fpr[2],t)*dfdx3(fpr[1][i],fpr[2][i],t,fpr[3])\n",
    "    return sum\n",
    "def lineInt_simp13(fpr,a,b,tol):\n",
    "    fpr.append(tol)\n",
    "    LI=simp13X(dAdr,fpr,a,b,tol)\n",
    "    return LI"
   ]
  },
  {
   "cell_type": "markdown",
   "metadata": {},
   "source": [
    "$A(x,y)=(3x^2+6y) ~i -14yz ~j + 20xz^2 ~k$"
   ]
  },
  {
   "cell_type": "code",
   "execution_count": null,
   "metadata": {},
   "outputs": [],
   "source": [
    "def Ax(pr,t):\n",
    "    #pr=[pr0,pr1,pr2]\n",
    "    xx,yy,zz=x(pr[0],t),y(pr[1],t),z(pr[2],t)\n",
    "    return 3*xx**2+6*yy\n",
    "def Ay(pr,t):\n",
    "    #pr=[pr0,pr1,pr2]\n",
    "    xx,yy,zz=x(pr[0],t),y(pr[1],t),z(pr[2],t)\n",
    "    return -14*yy*zz\n",
    "def Az(pr,t):\n",
    "    #pr=[pr0,pr1,pr2]\n",
    "    xx,yy,zz=x(pr[0],t),y(pr[1],t),z(pr[2],t)\n",
    "    return 20*xx*zz**2\n",
    "def x(pr0,t):\n",
    "    return t\n",
    "def y(pr1,t):\n",
    "    return t**2\n",
    "def z(pr2,t):\n",
    "    return t**3\n",
    "\n",
    "tol=1e-6\n",
    "a=0\n",
    "b=1\n",
    "pr0,pr1,pr2=None,None,None\n",
    "fpr=[[Ax,Ay,Az],[x,y,z],[pr0,pr1,pr2]]\n",
    "L=lineInt_simp13(fpr,a,b,tol)\n",
    "print(L)"
   ]
  },
  {
   "cell_type": "markdown",
   "metadata": {},
   "source": [
    "$A(x,y)=(3xy) ~i - (y^2) ~j$ "
   ]
  },
  {
   "cell_type": "markdown",
   "metadata": {},
   "source": [
    "$x(t)~=~t~,~y(t)~=2t^2 ~for~ 0 ~\\leq t~ \\leq1$"
   ]
  },
  {
   "cell_type": "code",
   "execution_count": null,
   "metadata": {},
   "outputs": [],
   "source": [
    "def Ax(pr,t):\n",
    "    xx,yy=x(pr[0],t),y(pr[1],t)\n",
    "    return 3*xx*yy\n",
    "def Ay(pr,t):\n",
    "    xx,yy=x(pr[0],t),y(pr[1],t)\n",
    "    return -yy**2\n",
    "def x(pr0,t):\n",
    "    return t\n",
    "def y(pr1,t):\n",
    "    return 2*t**2\n",
    "tol=1e-6\n",
    "a,b=0,1\n",
    "pr0,pr1=None,None\n",
    "fpr=[[Ax,Ay],[x,y],[pr0,pr1]]\n",
    "LI=lineInt_simp13(fpr,a,b,tol)\n",
    "print(LI)"
   ]
  },
  {
   "cell_type": "code",
   "execution_count": null,
   "metadata": {},
   "outputs": [],
   "source": [
    "def Ax(pr,t):\n",
    "    #pr=[pr0,pr1, '0' or '1']   pr0 is the parameter for x function   and pr1 is the parameter for y function \n",
    "    curve=pr[len(pr)-1]\n",
    "    if curve == '0':\n",
    "        xx=x0(pr[0],t)\n",
    "        yy=y0(pr[1],t)\n",
    "    if curve =='1':\n",
    "        xx=x1(pr[0],t)\n",
    "        yy=x1(pr[1],t)\n",
    "    return xx-yy\n",
    "def Ay(pr,t):\n",
    "    #pr=[pr0,pr1, '0' or '1']   pr0 is the parameter for x function   and pr1 is the parameter for y function \n",
    "    curve=pr[len(pr)-1]\n",
    "    if curve == '0':\n",
    "        xx=x0(pr[0],t)\n",
    "        yy=y0(pr[1],t)\n",
    "    if curve == '1':\n",
    "        xx=x1(pr[0],t)\n",
    "        yy=x1(pr[1],t)\n",
    "    return xx+yy\n",
    "def x0(pr0,t):\n",
    "    return t\n",
    "def y0(pr1,t):\n",
    "    return t**2\n",
    "def x1(pr0,t):\n",
    "    return t**2\n",
    "def y1(pr1,t):\n",
    "    return t\n",
    "pr0=None\n",
    "pr1=None\n",
    "cur='0'\n",
    "tol=1e-6\n",
    "a=0\n",
    "b=1\n",
    "pr=[pr0,pr1,cur]\n",
    "fpr=[[Ax,Ay],[x0,y0],[pr0,pr1,cur]]\n",
    "I1=lineInt_simp13(fpr,a,b,tol)\n",
    "\n",
    "pr0=None\n",
    "pr1=None\n",
    "cur='1'\n",
    "tol=1e-6\n",
    "a=1\n",
    "b=0\n",
    "pr=[pr0,pr1,cur]\n",
    "fpr=[[Ax,Ay],[x1,y1],[pr0,pr1,cur]]\n",
    "I2=lineInt_simp13(fpr,a,b,tol)\n",
    "print(\"The value of the closed line Intergral is : \",(I1+I2))"
   ]
  },
  {
   "cell_type": "code",
   "execution_count": null,
   "metadata": {},
   "outputs": [],
   "source": [
    "def Ax(pr,t):\n",
    "    #pr=[pr0,pr1, '0' or '1']   pr0 is the parameter for x function   and pr1 is the parameter for y function \n",
    "    curve=pr[len(pr)-1]\n",
    "    if curve == '0':\n",
    "        xx=x0(pr[0],t)\n",
    "        yy=y0(pr[1],t)\n",
    "    if curve =='1':\n",
    "        xx=x1(pr[0],t)\n",
    "        yy=x1(pr[1],t)\n",
    "    return xx*yy+yy**2\n",
    "def Ay(pr,t):\n",
    "    #pr=[pr0,pr1, '0' or '1']   pr0 is the parameter for x function   and pr1 is the parameter for y function \n",
    "    curve=pr[len(pr)-1]\n",
    "    if curve == '0':\n",
    "        xx=x0(pr[0],t)\n",
    "        yy=y0(pr[1],t)\n",
    "    if curve == '1':\n",
    "        xx=x1(pr[0],t)\n",
    "        yy=x1(pr[1],t)\n",
    "    return xx**2\n",
    "def x0(pr0,t):\n",
    "    return t\n",
    "def y0(pr1,t):\n",
    "    return t**2\n",
    "def x1(pr0,t):\n",
    "    return t\n",
    "def y1(pr1,t):\n",
    "    return t\n",
    "pr0=None\n",
    "pr1=None\n",
    "cur='0'\n",
    "tol=1e-6\n",
    "a=0\n",
    "b=1\n",
    "fpr=[[Ax,Ay],[x0,y0],[pr0,pr1,cur]]\n",
    "I1=lineInt_simp13(fpr,a,b,tol)\n",
    "\n",
    "pr0=None\n",
    "pr1=None\n",
    "cur='1'\n",
    "tol=1e-6\n",
    "a=1\n",
    "b=0\n",
    "pr=[pr0,pr1,cur]\n",
    "fpr=[[Ax,Ay],[x1,y1],[pr0,pr1,cur]]\n",
    "I2=lineInt_simp13(fpr,a,b,tol)\n",
    "print(\"The value of the closed line Intergral is : \",(I1+I2))"
   ]
  },
  {
   "cell_type": "code",
   "execution_count": null,
   "metadata": {},
   "outputs": [],
   "source": [
    "from math import*\n",
    "def fx(x):\n",
    "    return exp(x)\n",
    "t=0\n",
    "Y=[]\n",
    "h=1e-3\n",
    "\n",
    "while t<=2.5:\n",
    "    Y.append(fx(t))\n",
    "    t=t+h\n",
    "\n",
    "h=1e-3\n",
    "I=simp13Xdis(h,Y)\n",
    "print(\"The value of the Numerical Integration is : \",I)"
   ]
  },
  {
   "cell_type": "markdown",
   "metadata": {},
   "source": [
    "$ \\huge Simpson's ~ \\frac{3}{8} ~ Rule ~for ~Integration$"
   ]
  },
  {
   "cell_type": "code",
   "execution_count": null,
   "metadata": {},
   "outputs": [],
   "source": [
    "def Simp38X(f,pr,a,b,tol):\n",
    "    I1=0\n",
    "    n=12\n",
    "    while True:\n",
    "        h=(b-a)/n\n",
    "        I2=0\n",
    "        for i in range(n+1):\n",
    "            if i==0 or i==n:\n",
    "                I2=I2+f(pr,a+i*h)\n",
    "            elif i%3==0:\n",
    "                I2=I2+2*f(pr,a+i*h)\n",
    "            else:\n",
    "                I2=I2+3*f(pr,a+i*h)\n",
    "        I2=((3*h)/8)*I2\n",
    "        \n",
    "        if abs(I2-I1)<= tol:\n",
    "            break\n",
    "        I1=I2\n",
    "        n=n+12\n",
    "    return I2"
   ]
  },
  {
   "cell_type": "markdown",
   "metadata": {},
   "source": [
    "$sin(x) ~from ~\\frac{\\pi}{3} ~to ~2\\pi$"
   ]
  },
  {
   "cell_type": "code",
   "execution_count": null,
   "metadata": {},
   "outputs": [],
   "source": [
    "from math import*\n",
    "def f(pr,x):\n",
    "    return sin(x)\n",
    "pr=None\n",
    "a=pi/3\n",
    "b=2*pi\n",
    "tol=1e-5\n",
    "I=Simp38X(f,pr,a,b,tol)\n",
    "print(\"The value of the integration using Simpson's 3/8 rule is : \",I)"
   ]
  },
  {
   "cell_type": "markdown",
   "metadata": {},
   "source": [
    "$ \\int_{1}^{\\infty} x^n~dx~for ~n~\\leq-2$"
   ]
  },
  {
   "cell_type": "code",
   "execution_count": null,
   "metadata": {},
   "outputs": [],
   "source": [
    "def f(pr,x):\n",
    "    return x**pr\n",
    "n=int(input(\"Enter the value of n : \"))\n",
    "m=10\n",
    "I0=0\n",
    "pr=n\n",
    "a=1\n",
    "tol=1e-6\n",
    "while True:\n",
    "    I1=Simp38X(f,pr,a,m,tol)\n",
    "    if abs(I1-I0) <= tol:\n",
    "        break\n",
    "    m=m+10\n",
    "    I0=I1\n",
    "print(\"The value of the integral is : \",I1)"
   ]
  },
  {
   "cell_type": "markdown",
   "metadata": {},
   "source": [
    "$\\int_{0}^{\\infty}e^{-x^2}~dx$"
   ]
  },
  {
   "cell_type": "code",
   "execution_count": null,
   "metadata": {},
   "outputs": [],
   "source": [
    "from math import*\n",
    "def f(pr,x):\n",
    "    return exp(-x**2)\n",
    "I0=0\n",
    "pr=None\n",
    "m=10\n",
    "tol=1e-6\n",
    "while True:\n",
    "    I1=Simp38X(f,pr,0,m,tol)\n",
    "    if abs(I0-I1)<=tol:\n",
    "        break\n",
    "    m=m+10\n",
    "    I0=I1\n",
    "print(\"The value of the Integral is : \",I1)"
   ]
  },
  {
   "cell_type": "markdown",
   "metadata": {},
   "source": [
    "$\\int_{0}^{\\infty} x^2~e^{-x^2}~dx$"
   ]
  },
  {
   "cell_type": "code",
   "execution_count": null,
   "metadata": {},
   "outputs": [],
   "source": [
    "from math import*\n",
    "def f(pr,x):\n",
    "    \n",
    "    return x**2*exp(-x**2)\n",
    "pr=None\n",
    "a=0\n",
    "m=10\n",
    "I0=0\n",
    "to=1e-7\n",
    "while True:\n",
    "    I1=Simp38X(f,pr,a,m,tol)\n",
    "    if abs(I1-I0)<tol:\n",
    "        break\n",
    "    m=m+10\n",
    "    I0=I1\n",
    "print(\"The value of the Integral using Simpson 3/8 Rule is  : \",I1)\n",
    "    "
   ]
  },
  {
   "cell_type": "markdown",
   "metadata": {},
   "source": [
    "$\\int_{0}^{\\infty}\\frac{sin~x}{x}~dx$"
   ]
  },
  {
   "cell_type": "code",
   "execution_count": null,
   "metadata": {},
   "outputs": [],
   "source": [
    "from math import*\n",
    "def f(pr,x):\n",
    "    \n",
    "    return sin(x)/x\n",
    "pr=None\n",
    "m=10\n",
    "I0=0\n",
    "to=1e-7\n",
    "while True:\n",
    "    I1=Simp38X(f,pr,1/m,m,tol)\n",
    "    if abs(I1-I0)<tol:\n",
    "        break\n",
    "    m=m+50\n",
    "    I0=I1\n",
    "print(\"The value of the Integral using Simpson 3/8 Rule is  : \",I1)\n",
    "    "
   ]
  },
  {
   "cell_type": "markdown",
   "metadata": {},
   "source": [
    "$\\Gamma(n)=\\int_{0}^{\\infty}t^{n-1}e^{-t}dt$"
   ]
  },
  {
   "cell_type": "code",
   "execution_count": null,
   "metadata": {},
   "outputs": [],
   "source": [
    "from math import*\n",
    "def f(pr,t):\n",
    "    return t*(pr-1)*exp(-t)\n",
    "n=float(input(\"Enter the value of n : \"))\n",
    "pr=n\n",
    "m=10\n",
    "I0=0\n",
    "to=1e-4\n",
    "while True:\n",
    "    I1=Simp38X(f,pr,0,m,tol)\n",
    "    if abs(I1-I0)<tol:\n",
    "        break\n",
    "    m=m+10\n",
    "    I0=I1\n",
    "print(\"The value of the Integral using Simpson 3/8 Rule is  : \",I1)"
   ]
  },
  {
   "cell_type": "markdown",
   "metadata": {},
   "source": [
    "$Van-Der ~Equation ~Gas$"
   ]
  },
  {
   "cell_type": "markdown",
   "metadata": {},
   "source": [
    "$U_{ideal}-U_{real}~=~\\int_{V}^{\\infty}\\left[T \\left(\\frac{\\partial P}{\\partial T} \\right)-P \\right]~dV$"
   ]
  },
  {
   "cell_type": "markdown",
   "metadata": {},
   "source": [
    "Exact value = $\\frac{a}{V}$"
   ]
  },
  {
   "cell_type": "code",
   "execution_count": null,
   "metadata": {},
   "outputs": [],
   "source": [
    "from dfdx3 import*\n",
    "def P(pr,T):\n",
    "    #pr=[V,R,a,b]\n",
    "    return (pr[1]*T)/(pr[0]-pr[3])-(pr[2]/(T*pr[0]**2))\n",
    "def X(pr,V):\n",
    "    #pr=[T,R,a,b]\n",
    "    T=pr[0]\n",
    "    R=pr[1]\n",
    "    a=pr[2]\n",
    "    b=pr[3]\n",
    "    pr1=[V,R,a,b]\n",
    "    tol=1e-5\n",
    "    dpdt=dfdx3(P,pr1,T,tol)\n",
    "    p=P(pr1,T)\n",
    "    return (T*dpdt-p)"
   ]
  },
  {
   "cell_type": "code",
   "execution_count": null,
   "metadata": {},
   "outputs": [],
   "source": [
    "R,a,b=0.08205,3.606788,0.04286\n",
    "V,XX=[],[]\n",
    "X2=[]\n",
    "T=310\n",
    "v=b+0.02\n",
    "tol=1e-5\n",
    "while v<=0.5:\n",
    "    V.append(v)\n",
    "    X2.append(a/v)\n",
    "    pr=[]\n",
    "    I=0\n",
    "    m=100\n",
    "    while True:\n",
    "        pr=[T,R,a,b]\n",
    "        I1=Simp38X(X,pr,v,m,tol)\n",
    "        if abs(I1-I)<tol:\n",
    "            break\n",
    "        I=I1\n",
    "        m=m+10\n",
    "    XX.append(I1)\n",
    "    v=v+0.01\n",
    "import matplotlib.pyplot as plt\n",
    "plt.plot(V,XX,'k-',label='Calculated Value')\n",
    "plt.plot(V,X2,'k*',label='Exact Values')\n",
    "plt.legend(loc='best',prop={'size':12})\n",
    "plt.show()"
   ]
  },
  {
   "cell_type": "markdown",
   "metadata": {},
   "source": [
    "$\\Huge Gaussian ~ Quadrature$"
   ]
  },
  {
   "cell_type": "code",
   "execution_count": null,
   "metadata": {},
   "outputs": [],
   "source": [
    "from GaussElim import*\n",
    "from math import*\n",
    "from legendre import*\n",
    "from NR import*\n",
    "def dPndx(n,x):\n",
    "    return (n/(x**2-1))*(x**2*recPn(n,x)-recPn(n-1,x))\n",
    "def nodes(n):\n",
    "    roots=[]\n",
    "    for i in range(n):\n",
    "        x0=cos(pi*((i-0.25)/(n+0.5)))\n",
    "        root=NR(recPn,n,dPndx,n,x0,1000,1e-5)\n",
    "        roots.append(root)\n",
    "    return roots\n",
    "def weights(n,xN):\n",
    "    #n=>Number of nodes \n",
    "    #xN=>values at the nodes\n",
    "    \n",
    "    #Method of undetermined coefficients \n",
    "    A=[]# Augmented Matrix\n",
    "    for i in range(n):\n",
    "        a=[]\n",
    "        for j in range(n):\n",
    "            a.append(xN[j]**i)\n",
    "        a.append((1+(-1)**i)/(i+1))\n",
    "        A.append(a)\n",
    "    wg1=GaussElim(A)\n",
    "    \n",
    "    #Method 2 \n",
    "    A=[]\n",
    "    for i in range(n):\n",
    "        a=[]\n",
    "        for j in range(n):\n",
    "            aa=recPn(i,xN[j])\n",
    "            a.append(aa)\n",
    "        aa=2 if i==0 else 0\n",
    "        a.append(aa)\n",
    "        A.append(a)\n",
    "    wg2=GaussElim(A)\n",
    "    \n",
    "    #Method 3 \n",
    "    wg3=[]\n",
    "    for i in range(n):\n",
    "        wg3.append(2 /( (1-xN[i]**2)*dPndx(n,xN[i])**2))\n",
    "    return wg1,wg2,wg3\n",
    "N=int(input(\"Enter the no. of nodes ....\"))\n",
    "xN=nodes(N)\n",
    "print(xN)\n",
    "wg1,wg2,wg3=weights(N,xN)\n",
    "print(wg1,wg2,wg3)    "
   ]
  },
  {
   "cell_type": "code",
   "execution_count": null,
   "metadata": {},
   "outputs": [],
   "source": [
    "from GaussElim import*\n",
    "from math import*\n",
    "from legendre import*\n",
    "from NR import*\n",
    "def dPndx(n,x):\n",
    "    return (n/(x**2-1))*(x**2*recPn(n,x)-recPn(n-1,x))\n",
    "def nodes(n):\n",
    "    roots=[]\n",
    "    for i in range(n):\n",
    "        x0=cos(pi*((i-0.25)/(n+0.5)))\n",
    "        root=NR(recPn,n,dPndx,n,x0,1000,1e-5)\n",
    "        roots.append(root)\n",
    "    return roots\n",
    "def weights(n,xN):\n",
    "    #n=>Number of nodes \n",
    "    #xN=>values at the nodes\n",
    "    wg3=[]\n",
    "    for i in range(n):\n",
    "        wg3.append(2 /( (1-xN[i]**2)*dPndx(n,xN[i])**2))\n",
    "    return wg3\n",
    "def GaussLegdQuad(f,pr,N,a,b):\n",
    "    if N<2:\n",
    "        print(\"Number of evaluation points is too less. Quittng.......\")\n",
    "        return None\n",
    "    xN=nodes(N)\n",
    "    wN=weights(N,xN)\n",
    "    intg=0\n",
    "    for i in range(N):\n",
    "        intg+=wN[i]*f(pr,0.5*(b-a)*xN[i]+0.5*(b+a))\n",
    "    intg=0.5*(b-a)*intg\n",
    "    return intg"
   ]
  },
  {
   "cell_type": "markdown",
   "metadata": {},
   "source": [
    "I = $\\int_{0}^{2 \\pi} \\frac{dx}{(p+q~sin~x)^2}$"
   ]
  },
  {
   "cell_type": "markdown",
   "metadata": {},
   "source": [
    "Exact Result = $\\frac{2 \\pi p}{(p^2-q^2)^{\\frac{3}{2}}}$"
   ]
  },
  {
   "cell_type": "markdown",
   "metadata": {},
   "source": [
    "p=2 and q=1"
   ]
  },
  {
   "cell_type": "code",
   "execution_count": null,
   "metadata": {},
   "outputs": [],
   "source": [
    "from math import*\n",
    "def f(pr,x):\n",
    "    p,q=pr\n",
    "    return 1/(p+q*sin(x))**2\n",
    "p,q=2,1\n",
    "pr=[p,q]\n",
    "N=int(input(\"Enter the number of nodes......\"))\n",
    "a=0\n",
    "b=2*pi\n",
    "I=GaussLegdQuad(f,pr,N,a,b)\n",
    "print(\"The value of the integral is : \",I)\n",
    "print(\"The Exact value of the integral is : \",(2*pi*p)/(p**2-q**2)**1.5)"
   ]
  },
  {
   "cell_type": "markdown",
   "metadata": {},
   "source": [
    "I= $\\int_{0}^{2 \\pi} \\frac{dx}{p+q~sin~x}$"
   ]
  },
  {
   "cell_type": "markdown",
   "metadata": {},
   "source": [
    "The Exact result is : $\\frac{2 \\pi}{\\sqrt{p^2-q^2}}$"
   ]
  },
  {
   "cell_type": "code",
   "execution_count": null,
   "metadata": {},
   "outputs": [],
   "source": [
    "from math import*\n",
    "def f(pr,x):\n",
    "    p,q=pr\n",
    "    return 1/(p+q*sin(x))\n",
    "p,q=2,1\n",
    "pr=[p,q]\n",
    "N=int(input(\"Enter the number of nodes......\"))\n",
    "a=0\n",
    "b=2*pi\n",
    "I=GaussLegdQuad(f,pr,N,a,b)\n",
    "print(\"The value of the integral is : \",I)\n",
    "print(\"The Exact value of the integral is : \",((2*pi)/(p**2-q**2)**0.5))"
   ]
  },
  {
   "cell_type": "markdown",
   "metadata": {},
   "source": [
    "$\\huge Double~Integration$"
   ]
  },
  {
   "cell_type": "code",
   "execution_count": null,
   "metadata": {},
   "outputs": [],
   "source": [
    "def trpzXy(f,pr,a,b,tol,y):\n",
    "    fa=f(pr,a,y)\n",
    "    fb=f(pr,b,y)\n",
    "    n=10\n",
    "    I0=0\n",
    "    while True:\n",
    "        h=(b-a)/n\n",
    "        I1=0\n",
    "        for i in range(1,n):\n",
    "            I1=I1+2*f(pr,a+i*h,y)\n",
    "        I1=(h/2)*(fa+fb+I1)    \n",
    "        if abs(I1-I0)<tol:\n",
    "            break\n",
    "        I0=I1\n",
    "        n=n+10\n",
    "    return I1"
   ]
  },
  {
   "cell_type": "code",
   "execution_count": null,
   "metadata": {},
   "outputs": [],
   "source": [
    "def trpzX0Y0(f,pr,a1,b1,a2,b2,tol):\n",
    "    fa=trpzXy(f,pr,a1,b1,tol,a2)\n",
    "    fb=trpzXy(f,pr,a1,b1,tol,b2)\n",
    "    n=10\n",
    "    I0=0\n",
    "    while True:\n",
    "        h=(b2-a2)/n\n",
    "        I1=0\n",
    "        for i in range(1,n):\n",
    "            I1=I1+2*trpzXy(f,pr,a1,b1,tol,a2+i*h)\n",
    "        I1=(h/2)*(fa+fb+I1)\n",
    "        if abs(I1-I0)<tol:\n",
    "            break\n",
    "        n=n+10\n",
    "        I0=I1\n",
    "    return I1"
   ]
  },
  {
   "cell_type": "markdown",
   "metadata": {},
   "source": [
    "I=$ \\int_{1}^{2} \\int_{1}^{3} ~9x^3 ~y^2 ~dx~dy$"
   ]
  },
  {
   "cell_type": "code",
   "execution_count": null,
   "metadata": {},
   "outputs": [],
   "source": [
    "def f(pr,x,y):\n",
    "    return 9*x**3*y**2\n",
    "pr=None\n",
    "a1,b1,a2,b2,tol=1,3,1,2,1e-5\n",
    "I=trpzX0Y0(f,pr,a1,b1,a2,b2,tol)\n",
    "print(I)"
   ]
  },
  {
   "cell_type": "markdown",
   "metadata": {},
   "source": [
    "$Integration~with~Numpy$"
   ]
  },
  {
   "cell_type": "code",
   "execution_count": null,
   "metadata": {},
   "outputs": [],
   "source": [
    "import numpy as np\n",
    "y=[25,16,9,4,1,0,1,4,9,16,25]\n",
    "I=np.trapz(y)\n",
    "print(I)"
   ]
  },
  {
   "cell_type": "code",
   "execution_count": null,
   "metadata": {},
   "outputs": [],
   "source": [
    "x=np.arange(-5,6,1)\n",
    "y=x**2\n",
    "I=np.trapz(y)\n",
    "print(I)"
   ]
  },
  {
   "cell_type": "code",
   "execution_count": null,
   "metadata": {},
   "outputs": [],
   "source": [
    "from math import*\n",
    "x=np.arange(-6,7,0.1)\n",
    "y=np.exp(x)\n",
    "I=np.trapz(y,x)\n",
    "print(I)"
   ]
  },
  {
   "cell_type": "markdown",
   "metadata": {},
   "source": [
    "$Integration ~with~Scipy$"
   ]
  },
  {
   "cell_type": "code",
   "execution_count": null,
   "metadata": {},
   "outputs": [],
   "source": [
    "import scipy.integrate as intg"
   ]
  },
  {
   "cell_type": "code",
   "execution_count": null,
   "metadata": {},
   "outputs": [],
   "source": [
    "x=np.arange(-2,2,0.1)\n",
    "y=np.exp(-x**2)\n",
    "I=intg.trapz(y,x)\n",
    "print(I)"
   ]
  },
  {
   "cell_type": "code",
   "execution_count": null,
   "metadata": {},
   "outputs": [],
   "source": [
    "x=np.arange(0,2,0.05)\n",
    "y=x**2\n",
    "I=intg.simps(y,x,even='avg')\n",
    "print(I)"
   ]
  },
  {
   "cell_type": "code",
   "execution_count": null,
   "metadata": {},
   "outputs": [],
   "source": [
    "I=intg.simps(y,x,even='first')\n",
    "print(I)"
   ]
  },
  {
   "cell_type": "code",
   "execution_count": null,
   "metadata": {},
   "outputs": [],
   "source": [
    "intg.simps(y,x,even='last')"
   ]
  },
  {
   "cell_type": "code",
   "execution_count": null,
   "metadata": {},
   "outputs": [],
   "source": [
    "def f(x):\n",
    "    return 2*x**3-x+3\n",
    "intg.quad(f,0,2)[0]"
   ]
  },
  {
   "cell_type": "markdown",
   "metadata": {},
   "source": [
    "Examples"
   ]
  },
  {
   "cell_type": "code",
   "execution_count": null,
   "metadata": {},
   "outputs": [],
   "source": [
    "#Integrate a discrete functon using the trapezoidal rule\n",
    "def trapXdis(h,fx):\n",
    "    n=len(fx)\n",
    "    fa=fx[0]\n",
    "    fb=fx[n-1]\n",
    "    I1=0\n",
    "    for i in range(1,n-1):\n",
    "        t=i*h\n",
    "        I1=I1+2*fx[t]\n",
    "    I1=(h/2)*(I1+fa+fb)\n",
    "    return I1"
   ]
  },
  {
   "cell_type": "code",
   "execution_count": null,
   "metadata": {},
   "outputs": [],
   "source": [
    "y=[25,16,9,4,1,0,1,4,9,16,25]\n",
    "h=1\n",
    "print(trapXdis(h,y))"
   ]
  },
  {
   "cell_type": "code",
   "execution_count": null,
   "metadata": {},
   "outputs": [],
   "source": [
    "from math import*\n",
    "def f(pr,x):\n",
    "    return sin(x)\n",
    "pr=None\n",
    "a=0\n",
    "b=pi/2\n",
    "tol=1e-5\n",
    "print(simp13X(f,pr,a,b,tol))\n"
   ]
  },
  {
   "cell_type": "markdown",
   "metadata": {},
   "source": [
    "f(y)= $\\int_{0}^{y} \\sqrt{sec^2~x-1}$"
   ]
  },
  {
   "cell_type": "markdown",
   "metadata": {},
   "source": [
    "Plot f(y) vs y for $-\\pi/3 \\leq y \\leq \\pi/4$"
   ]
  },
  {
   "cell_type": "markdown",
   "metadata": {},
   "source": [
    "Increament of y as 0.01"
   ]
  },
  {
   "cell_type": "markdown",
   "metadata": {},
   "source": [
    "accuracy upto 3-decimal places using Simpson's $\\frac{1}{3}$ rule"
   ]
  },
  {
   "cell_type": "code",
   "execution_count": null,
   "metadata": {},
   "outputs": [],
   "source": [
    "def f(pr,x):\n",
    "    return ((1/cos(x)**2)-1)**0.5\n",
    "F=[]\n",
    "Y=[]\n",
    "y=-pi/3\n",
    "tol=1e-3\n",
    "pr=None\n",
    "while y<=pi/4:\n",
    "    Y.append(y)\n",
    "    F.append(simp13X(f,pr,0,y,tol))\n",
    "    y=y+0.01\n",
    "import matplotlib.pyplot as plt\n",
    "plt.plot(Y,F)\n",
    "plt.xlabel('y')\n",
    "plt.ylabel('f(y)')\n",
    "plt.show()    \n"
   ]
  },
  {
   "cell_type": "code",
   "execution_count": null,
   "metadata": {},
   "outputs": [],
   "source": [
    "def f(pr,x):\n",
    "    if x<0:\n",
    "        t=x**3-5*x\n",
    "    else:\n",
    "        t=x**3+5*x\n",
    "    return t\n",
    "tol=1e-3\n",
    "pr=None\n",
    "print(Simp38X(f,pr,-2,1,tol))"
   ]
  },
  {
   "cell_type": "code",
   "execution_count": null,
   "metadata": {},
   "outputs": [],
   "source": [
    "from math import*\n",
    "def f(pr,x):\n",
    "    return (x**pr - 1)/log(x)\n",
    "ba=0\n",
    "B=[]\n",
    "F=[]\n",
    "\n",
    "tol=1e-6\n",
    "while ba<=5:\n",
    "    B.append(ba)\n",
    "    F.append(simp13X(f,ba,0.00001,1.0000001,tol))\n",
    "    ba=ba+0.01\n",
    "import matplotlib.pyplot as plt\n",
    "plt.plot(B,F)\n",
    "plt.show()"
   ]
  },
  {
   "cell_type": "code",
   "execution_count": null,
   "metadata": {},
   "outputs": [],
   "source": [
    "from dfdx3 import*"
   ]
  },
  {
   "cell_type": "code",
   "execution_count": null,
   "metadata": {},
   "outputs": [],
   "source": [
    "tol=1e-5\n",
    "pr=None\n",
    "def f1(pr,x):\n",
    "    return simp13X(f,ba,0.00001,1.0000001,tol)\n",
    "pr=None\n",
    "dfdx3(f1,pr,0.23,tol)\n"
   ]
  },
  {
   "cell_type": "code",
   "execution_count": null,
   "metadata": {},
   "outputs": [],
   "source": [
    "log(0.23+1)"
   ]
  },
  {
   "cell_type": "code",
   "execution_count": null,
   "metadata": {},
   "outputs": [],
   "source": [
    "from math import*\n",
    "def f(pr,x):\n",
    "    m,a=pr\n",
    "    return x**m*exp(-a*x)\n",
    "m,a=5,10\n",
    "pr=[m,a]\n",
    "GaussLegdQuad(f,pr,20,0,1)"
   ]
  },
  {
   "cell_type": "code",
   "execution_count": null,
   "metadata": {},
   "outputs": [],
   "source": [
    "a"
   ]
  },
  {
   "cell_type": "code",
   "execution_count": null,
   "metadata": {},
   "outputs": [],
   "source": [
    "def fct(n):\n",
    "    fc=1\n",
    "    for i in range(1,n+1):\n",
    "        fc*=i\n",
    "    return fc"
   ]
  },
  {
   "cell_type": "code",
   "execution_count": null,
   "metadata": {},
   "outputs": [],
   "source": [
    "s=0\n",
    "for i in range(m):\n",
    "    s=s+(a**i)/fct(i)\n",
    "print((fct(m)/a**(m+1))*(1-exp(-a)*s))"
   ]
  },
  {
   "cell_type": "code",
   "execution_count": null,
   "metadata": {},
   "outputs": [],
   "source": [
    "def f(pr,x):\n",
    "    a,b=pr\n",
    "    return exp(x*log(a)+(1-x)*log(b))\n",
    "a,b=1,2\n",
    "pr=[a,b]\n",
    "GaussLegdQuad(f,pr,20,0,1)"
   ]
  },
  {
   "cell_type": "code",
   "execution_count": null,
   "metadata": {},
   "outputs": [],
   "source": [
    "(a-b)/(log(a)-log(b))"
   ]
  },
  {
   "cell_type": "code",
   "execution_count": null,
   "metadata": {},
   "outputs": [],
   "source": []
  },
  {
   "cell_type": "code",
   "execution_count": null,
   "metadata": {},
   "outputs": [],
   "source": []
  }
 ],
 "metadata": {
  "kernelspec": {
   "display_name": "Python 3",
   "language": "python",
   "name": "python3"
  },
  "language_info": {
   "codemirror_mode": {
    "name": "ipython",
    "version": 3
   },
   "file_extension": ".py",
   "mimetype": "text/x-python",
   "name": "python",
   "nbconvert_exporter": "python",
   "pygments_lexer": "ipython3",
   "version": "3.8.5"
  }
 },
 "nbformat": 4,
 "nbformat_minor": 4
}
