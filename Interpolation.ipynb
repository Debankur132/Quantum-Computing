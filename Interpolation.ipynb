{
 "cells": [
  {
   "cell_type": "markdown",
   "metadata": {},
   "source": [
    "$\\huge{Forward ~Difference}$"
   ]
  },
  {
   "cell_type": "code",
   "execution_count": 3,
   "metadata": {},
   "outputs": [],
   "source": [
    "def forDiffTble(forTB):\n",
    "    forTB=[forTB]\n",
    "    ind=0\n",
    "    while True:\n",
    "        TB=[]\n",
    "        for j in range(1,len(forTB[ind])):\n",
    "            TB.append(forTB[ind][j]-forTB[ind][j-1])\n",
    "        forTB.append(TB)\n",
    "            \n",
    "        if len(forTB[ind])==1:\n",
    "            break\n",
    "        else:\n",
    "            ind=ind+1\n",
    "    return forTB"
   ]
  },
  {
   "cell_type": "code",
   "execution_count": 7,
   "metadata": {},
   "outputs": [],
   "source": [
    "def prnForDiff(TB):\n",
    "    n=len(TB)\n",
    "    for i in range(n):\n",
    "        for j in range( len(TB[i]) ):\n",
    "            print(' %.3f '%TB[j][i],end=' ')\n",
    "        print('')\n",
    "    return None\n",
    "            "
   ]
  },
  {
   "cell_type": "code",
   "execution_count": 4,
   "metadata": {},
   "outputs": [],
   "source": [
    "ob=open(\"disFnc01.dat\",\"r\")\n",
    "x=[]\n",
    "y=[]"
   ]
  },
  {
   "cell_type": "code",
   "execution_count": 9,
   "metadata": {},
   "outputs": [],
   "source": [
    "while True:\n",
    "    data=ob.readline().split()\n",
    "    if not data:\n",
    "        break\n",
    "    x.append(float(data[0]))\n",
    "    y.append(float(data[1]))"
   ]
  },
  {
   "cell_type": "code",
   "execution_count": 10,
   "metadata": {},
   "outputs": [
    {
     "name": "stdout",
     "output_type": "stream",
     "text": [
      " 0.000   0.368   -0.195   -0.071   0.275   -0.387   0.423   -0.410   0.371   -0.317  \n",
      " 0.368   0.173   -0.266   0.204   -0.112   0.036   0.013   -0.039   0.054  \n",
      " 0.541   -0.093   -0.062   0.092   -0.076   0.049   -0.026   0.015  \n",
      " 0.448   -0.155   0.030   0.016   -0.027   0.023   -0.011  \n",
      " 0.293   -0.125   0.046   -0.011   -0.004   0.012  \n",
      " 0.168   -0.079   0.035   -0.015   0.008  \n",
      " 0.089   -0.044   0.020   -0.007  \n",
      " 0.045   -0.024   0.013  \n",
      " 0.021   -0.011  \n",
      " 0.010  \n",
      "\n"
     ]
    }
   ],
   "source": [
    "T=forDiffTble(y)\n",
    "prnForDiff(T)"
   ]
  },
  {
   "cell_type": "markdown",
   "metadata": {},
   "source": [
    "$ \\huge{Backward~difference}$"
   ]
  },
  {
   "cell_type": "code",
   "execution_count": null,
   "metadata": {},
   "outputs": [],
   "source": []
  },
  {
   "cell_type": "code",
   "execution_count": 11,
   "metadata": {},
   "outputs": [],
   "source": [
    "def backDiffTble(backTB):\n",
    "    n=len(backTB)\n",
    "    backTB=[backTB]\n",
    "    for i in range(n-1):\n",
    "        arr=[]\n",
    "        for j in range(n):\n",
    "            if j<=i:\n",
    "                arr.append(None)\n",
    "            else:\n",
    "                arr.append(backTB[i][j]-backTB[i][j-1])\n",
    "        backTB.append(arr)\n",
    "    return backTB\n",
    "                "
   ]
  },
  {
   "cell_type": "code",
   "execution_count": 12,
   "metadata": {},
   "outputs": [],
   "source": [
    "def prnbackDiffTble(TB):\n",
    "    n=len(TB)\n",
    "    for i in range(n):\n",
    "        for j in range(n):\n",
    "            if TB[j][i]!=None:\n",
    "                print(' %.3f '%TB[j][i],end=' ')\n",
    "        print(\"\")\n",
    "    return None"
   ]
  },
  {
   "cell_type": "code",
   "execution_count": 13,
   "metadata": {},
   "outputs": [
    {
     "name": "stdout",
     "output_type": "stream",
     "text": [
      " 0.000  \n",
      " 0.368   0.368  \n",
      " 0.541   0.173   -0.195  \n",
      " 0.448   -0.093   -0.266   -0.071  \n",
      " 0.293   -0.155   -0.062   0.204   0.275  \n",
      " 0.168   -0.125   0.030   0.092   -0.112   -0.387  \n",
      " 0.089   -0.079   0.046   0.016   -0.076   0.036   0.423  \n",
      " 0.045   -0.044   0.035   -0.011   -0.027   0.049   0.013   -0.410  \n",
      " 0.021   -0.024   0.020   -0.015   -0.004   0.023   -0.026   -0.039   0.371  \n",
      " 0.010   -0.011   0.013   -0.007   0.008   0.012   -0.011   0.015   0.054   -0.317  \n"
     ]
    }
   ],
   "source": [
    "ob=open(\"disFnc01.dat\",\"r\")\n",
    "x=[]\n",
    "y=[]\n",
    "    \n",
    "while True:\n",
    "    data=ob.readline().split()\n",
    "    \n",
    "    if not data:\n",
    "        break\n",
    "    x.append(float(data[0]))\n",
    "    y.append(float(data[1]))\n",
    "ob.close()\n",
    "T=backDiffTble(y)\n",
    "prnbackDiffTble(T)"
   ]
  },
  {
   "cell_type": "markdown",
   "metadata": {},
   "source": [
    "$\\huge{Newton~Gregory ~Forward~ Difference ~Formulae}$"
   ]
  },
  {
   "cell_type": "code",
   "execution_count": 5,
   "metadata": {},
   "outputs": [],
   "source": [
    "from forDiffTble import*\n",
    "def intpForDiff(x,y,xx,k):\n",
    "    n=len(y)\n",
    "    h=x[k+1]-x[k]\n",
    "    p=(xx-x[k])/h\n",
    "    t=1\n",
    "    f=0\n",
    "    T=forDiffTble(y)\n",
    "    for i in range(n-k):\n",
    "        f=f+T[i][k]*t\n",
    "        t=t*((p-i)/(i+1))\n",
    "    return f\n",
    "        "
   ]
  },
  {
   "cell_type": "code",
   "execution_count": 17,
   "metadata": {},
   "outputs": [
    {
     "name": "stdin",
     "output_type": "stream",
     "text": [
      "Enter the value of x :  4.7\n",
      "Enter the degree of the polynomial 0\n"
     ]
    },
    {
     "name": "stdout",
     "output_type": "stream",
     "text": [
      "the value of the function at 4.70 is :  0.20064981401439527\n"
     ]
    }
   ],
   "source": [
    "ob=open(\"disFnc01.dat\",\"r\")\n",
    "x=[]\n",
    "y=[]\n",
    "while True:\n",
    "    data=ob.readline().split()\n",
    "    if not data:\n",
    "        break\n",
    "    x.append(float(data[0]))\n",
    "    y.append(float(data[1]))\n",
    "ob.close()\n",
    "xx=float(input(\"Enter the value of x : \"))\n",
    "k=int(input(\"Enter the degree of the polynomial\"))\n",
    "res=intpForDiff(x,y,xx,k)\n",
    "print(\"the value of the function at %.2f is : \"%xx,res)    "
   ]
  },
  {
   "cell_type": "markdown",
   "metadata": {},
   "source": [
    "$\\huge{Newton-Gregory ~Backward ~Difference}$"
   ]
  },
  {
   "cell_type": "code",
   "execution_count": 18,
   "metadata": {},
   "outputs": [],
   "source": [
    "def inpBackDiff(x,y,xx,k):\n",
    "    n=len(y)\n",
    "    h=x[k+1]-x[k]\n",
    "    r=(xx-x[n-1-k])/h\n",
    "    t=1\n",
    "    s=0\n",
    "    T=backDiffTble(y)\n",
    "    for i in range(n-k):\n",
    "        s=s+T[i][n-1]*t\n",
    "        t=t*((r+i)/(i+1))\n",
    "    return s"
   ]
  },
  {
   "cell_type": "code",
   "execution_count": 19,
   "metadata": {},
   "outputs": [
    {
     "name": "stdin",
     "output_type": "stream",
     "text": [
      "Enter the value of x :  4.4\n",
      "Enter the degree of the polynomial 0\n"
     ]
    },
    {
     "name": "stdout",
     "output_type": "stream",
     "text": [
      "0.23757612707839995\n"
     ]
    }
   ],
   "source": [
    "ob=open(\"disFnc01.dat\",\"r\")\n",
    "x=[]\n",
    "y=[]\n",
    "while True:\n",
    "    data=ob.readline().split()\n",
    "    if not data:\n",
    "        break\n",
    "    x.append(float(data[0]))\n",
    "    y.append(float(data[1]))\n",
    "ob.close()\n",
    "xx=float(input(\"Enter the value of x : \"))\n",
    "k=int(input(\"Enter the degree of the polynomial\"))\n",
    "print(inpBackDiff(x,y,xx,k))"
   ]
  },
  {
   "cell_type": "markdown",
   "metadata": {},
   "source": [
    "$\\huge{Lagrange ~ Interpolation}$"
   ]
  },
  {
   "cell_type": "code",
   "execution_count": 20,
   "metadata": {},
   "outputs": [],
   "source": [
    "def LagInp(x,y,xx):\n",
    "    s=0\n",
    "    if x!=None and y!= None and xx!= None:\n",
    "        n=len(y)\n",
    "        s=0\n",
    "        for i in range(n):\n",
    "            u=1\n",
    "            v=1\n",
    "            for j in range(n):\n",
    "                if i!=j:\n",
    "                    u=u*(xx-x[j])\n",
    "                    v=v*(x[i]-x[j])\n",
    "            t=u/v\n",
    "            s=s+t*y[i]\n",
    "    else:\n",
    "        s=None\n",
    "    return s"
   ]
  },
  {
   "cell_type": "code",
   "execution_count": 21,
   "metadata": {},
   "outputs": [
    {
     "name": "stdin",
     "output_type": "stream",
     "text": [
      "Enter the value of x 4.7\n"
     ]
    },
    {
     "name": "stdout",
     "output_type": "stream",
     "text": [
      "0.20064981401439533\n"
     ]
    }
   ],
   "source": [
    "ob=open(\"disFnc01.dat\",\"r\")\n",
    "x=[]\n",
    "y=[]\n",
    "while True:\n",
    "    data=ob.readline().split()\n",
    "    if not data:\n",
    "        break\n",
    "    x.append(float(data[0]))\n",
    "    y.append(float(data[1]))\n",
    "ob.close()\n",
    "xx=float(input(\"Enter the value of x\"))\n",
    "print(LagInp(x,y,xx))\n"
   ]
  },
  {
   "cell_type": "markdown",
   "metadata": {},
   "source": [
    "$\\huge{Local ~ Interpolation}$"
   ]
  },
  {
   "cell_type": "code",
   "execution_count": 13,
   "metadata": {},
   "outputs": [],
   "source": [
    "def locate(x,xx):\n",
    "    k=-1\n",
    "    n=len(x)\n",
    "    for i in range(n-1):\n",
    "        if (xx-x[i])*(xx-x[i+1])<=0:\n",
    "            k=i\n",
    "            break\n",
    "    return k"
   ]
  },
  {
   "cell_type": "code",
   "execution_count": 14,
   "metadata": {},
   "outputs": [],
   "source": [
    "from locate import*\n",
    "from intpForDiff import*\n",
    "def disToCnt(x,y,xx,m):\n",
    "    j=locate(x,xx)\n",
    "    n=len(x)\n",
    "    if j!=-1:\n",
    "        k=min(max(j-(m-1)//2,0),n-m)\n",
    "        yy=intpForDiff(x[k:k+m],y[k:k+m],xx,0)\n",
    "    else:\n",
    "        print(\"%f doesn't belong to the given array\"%xx)\n",
    "        yy=None\n",
    "    return yy"
   ]
  },
  {
   "cell_type": "code",
   "execution_count": 24,
   "metadata": {},
   "outputs": [
    {
     "data": {
      "image/png": "[encoded data removed]",
      "text/plain": [
       "<Figure size 432x288 with 1 Axes>"
      ]
     },
     "metadata": {
      "needs_background": "light"
     },
     "output_type": "display_data"
    }
   ],
   "source": [
    "from math import*\n",
    "def f(x):\n",
    "    return exp(-0.15*x)*sin(2*x)\n",
    "m=4\n",
    "h,hh=0.3,0.06\n",
    "x,fx=[],[]\n",
    "xx=-2*pi\n",
    "while xx<=2*pi:\n",
    "    x.append(xx)\n",
    "    fx.append(f(xx))\n",
    "    xx+=h\n",
    "\n",
    "t=-2*pi\n",
    "X1=[]\n",
    "Y1=[]\n",
    "while t<=-1.1*pi:\n",
    "    X1.append(t)\n",
    "    Y1.append(disToCnt(x,fx,t,m))\n",
    "    t+=hh\n",
    "    \n",
    "t=-0.9*pi\n",
    "X2=[]\n",
    "Y2=[]\n",
    "while t<=0.5*pi:\n",
    "    X2.append(t)\n",
    "    Y2.append(disToCnt(x,fx,t,m))\n",
    "    t+=hh\n",
    "\n",
    "t=pi\n",
    "X3=[]\n",
    "Y3=[]\n",
    "while t<=1.5*pi:\n",
    "    X3.append(t)\n",
    "    Y3.append(disToCnt(x,fx,t,m))\n",
    "    t+=hh\n",
    "\n",
    "    \n",
    "import matplotlib.pyplot as plt\n",
    "plt.plot(X1,Y1,'c.',label=r'$-2 \\pi \\leq x \\leq -1.1 \\pi$')\n",
    "plt.plot(X2,Y2,'c4',label=r'$-0.9 \\pi \\leq x \\leq 0.5 \\pi$')\n",
    "plt.plot(X3,Y3,'cx',label=r'$ \\pi \\leq x \\leq 1.5 \\pi$')\n",
    "plt.plot(x,fx,'k*',label='Discrete Function')\n",
    "\n",
    "plt.legend(loc='best',prop={'size':9})\n",
    "plt.title(\"Illustration of local interpolation\")\n",
    "plt.show()\n",
    "    "
   ]
  },
  {
   "cell_type": "markdown",
   "metadata": {},
   "source": [
    "$\\huge{Interpolation ~by ~Numpy ~and~Scipy}$"
   ]
  },
  {
   "cell_type": "markdown",
   "metadata": {},
   "source": [
    "$Interpolation ~ with ~ Numpy$\n"
   ]
  },
  {
   "cell_type": "code",
   "execution_count": 8,
   "metadata": {},
   "outputs": [],
   "source": [
    "import numpy as np"
   ]
  },
  {
   "cell_type": "code",
   "execution_count": 26,
   "metadata": {},
   "outputs": [
    {
     "data": {
      "text/plain": [
       "array([3.  , 3.  , 2.5 , 0.56, 0.  ])"
      ]
     },
     "execution_count": 26,
     "metadata": {},
     "output_type": "execute_result"
    }
   ],
   "source": [
    "x=[1,2,3]\n",
    "fx=[3,2,0]\n",
    "xx=[0,1,1.5,2.72,3.14]\n",
    "np.interp(xx,x,fx)\n"
   ]
  },
  {
   "cell_type": "markdown",
   "metadata": {},
   "source": [
    "$Interpolation ~ by~ Scipy$"
   ]
  },
  {
   "cell_type": "code",
   "execution_count": 27,
   "metadata": {},
   "outputs": [],
   "source": [
    "from scipy.interpolate import interp1d"
   ]
  },
  {
   "cell_type": "code",
   "execution_count": 28,
   "metadata": {},
   "outputs": [],
   "source": [
    "x=np.linspace(0,10,num=11,endpoint=True)"
   ]
  },
  {
   "cell_type": "code",
   "execution_count": 29,
   "metadata": {},
   "outputs": [
    {
     "data": {
      "text/plain": [
       "array([ 0.,  1.,  2.,  3.,  4.,  5.,  6.,  7.,  8.,  9., 10.])"
      ]
     },
     "execution_count": 29,
     "metadata": {},
     "output_type": "execute_result"
    }
   ],
   "source": [
    "x"
   ]
  },
  {
   "cell_type": "code",
   "execution_count": 30,
   "metadata": {},
   "outputs": [],
   "source": [
    "y=np.cos(-x**2/9)"
   ]
  },
  {
   "cell_type": "code",
   "execution_count": 31,
   "metadata": {},
   "outputs": [
    {
     "data": {
      "text/plain": [
       "array([ 1.        ,  0.99383351,  0.90284967,  0.54030231, -0.20550672,\n",
       "       -0.93454613, -0.65364362,  0.6683999 ,  0.67640492, -0.91113026,\n",
       "        0.11527995])"
      ]
     },
     "execution_count": 31,
     "metadata": {},
     "output_type": "execute_result"
    }
   ],
   "source": [
    "y"
   ]
  },
  {
   "cell_type": "code",
   "execution_count": 32,
   "metadata": {},
   "outputs": [],
   "source": [
    "f=interp1d(x,y)"
   ]
  },
  {
   "cell_type": "code",
   "execution_count": 33,
   "metadata": {},
   "outputs": [
    {
     "data": {
      "text/plain": [
       "<scipy.interpolate.interpolate.interp1d at 0x8a191d0>"
      ]
     },
     "execution_count": 33,
     "metadata": {},
     "output_type": "execute_result"
    }
   ],
   "source": [
    "f"
   ]
  },
  {
   "cell_type": "code",
   "execution_count": 34,
   "metadata": {},
   "outputs": [],
   "source": [
    "f2=interp1d(x,y,kind='cubic')"
   ]
  },
  {
   "cell_type": "code",
   "execution_count": 35,
   "metadata": {},
   "outputs": [],
   "source": [
    "xnew=np.linspace(0,10,num=41,endpoint=True)"
   ]
  },
  {
   "cell_type": "code",
   "execution_count": 36,
   "metadata": {},
   "outputs": [],
   "source": [
    "import matplotlib.pyplot as plt"
   ]
  },
  {
   "cell_type": "code",
   "execution_count": 37,
   "metadata": {},
   "outputs": [
    {
     "data": {
      "image/png": "[encoded data removed]",
      "text/plain": [
       "<Figure size 432x288 with 1 Axes>"
      ]
     },
     "metadata": {
      "needs_background": "light"
     },
     "output_type": "display_data"
    }
   ],
   "source": [
    "plt.plot(x,y,'o',xnew,f(xnew),'-',xnew,f2(xnew),'--')\n",
    "plt.legend(['data','linear','cubic'],loc='best')\n",
    "plt.show()"
   ]
  },
  {
   "cell_type": "markdown",
   "metadata": {},
   "source": [
    "$\\huge Exercises$"
   ]
  },
  {
   "cell_type": "code",
   "execution_count": 38,
   "metadata": {},
   "outputs": [],
   "source": [
    "def f(x):\n",
    "    return x**2*np.exp(-x**2)\n",
    "x=np.linspace(0,10,num=11)\n",
    "xx=[]\n",
    "yy=[]\n",
    "n=len(x)\n",
    "for i in range(n):\n",
    "    xx.append(x[i])\n",
    "    yy.append(f(x[i]))"
   ]
  },
  {
   "cell_type": "code",
   "execution_count": 39,
   "metadata": {},
   "outputs": [],
   "source": [
    "def f(x):\n",
    "    return x**2*np.exp(-np.sin(x)**2)\n",
    "x=np.linspace(0,10,num=100)\n",
    "xx=[]\n",
    "yy=[]\n",
    "n=len(x)\n",
    "for i in range(n):\n",
    "    xx.append(x[i])\n",
    "    yy.append(f(x[i]))\n"
   ]
  },
  {
   "cell_type": "code",
   "execution_count": 43,
   "metadata": {},
   "outputs": [
    {
     "name": "stdin",
     "output_type": "stream",
     "text": [
      "Enter the value of x :  7.2\n",
      "Enter the no. of interpolating points :  5\n"
     ]
    },
    {
     "name": "stdout",
     "output_type": "stream",
     "text": [
      "27.612029398985687\n"
     ]
    }
   ],
   "source": [
    "def f(x):\n",
    "    return x**2*np.exp(-np.sin(x)**2)\n",
    "x=np.linspace(0,10,num=100)\n",
    "xx=[]\n",
    "yy=[]\n",
    "n=len(x)\n",
    "for i in range(n):\n",
    "    xx.append(x[i])\n",
    "    yy.append(f(x[i]))\n",
    "xxx=float(input(\"Enter the value of x : \" ))\n",
    "m=int(input(\"Enter the no. of interpolating points : \"))\n",
    "print(disToCnt(xx,yy,xxx,m))"
   ]
  },
  {
   "cell_type": "code",
   "execution_count": null,
   "metadata": {},
   "outputs": [],
   "source": []
  },
  {
   "cell_type": "code",
   "execution_count": null,
   "metadata": {},
   "outputs": [],
   "source": []
  }
 ],
 "metadata": {
  "kernelspec": {
   "display_name": "Python 3",
   "language": "python",
   "name": "python3"
  },
  "language_info": {
   "codemirror_mode": {
    "name": "ipython",
    "version": 3
   },
   "file_extension": ".py",
   "mimetype": "text/x-python",
   "name": "python",
   "nbconvert_exporter": "python",
   "pygments_lexer": "ipython3",
   "version": "3.8.5"
  }
 },
 "nbformat": 4,
 "nbformat_minor": 4
}
